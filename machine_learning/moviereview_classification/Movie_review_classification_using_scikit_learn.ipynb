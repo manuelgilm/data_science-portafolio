{
 "cells": [
  {
   "cell_type": "markdown",
   "metadata": {},
   "source": [
    "<div class=\"alert\" style=\"background-color:#fff; color:white; padding:0px 10px; border-radius:5px;\"><h1 style='margin:15px 15px; color:#006a79; font-size:40px'>Movie review classification with Scikit Learn.</h1>\n",
    "</div>\n",
    "\n",
    "<strong>Content:</strong>\n",
    "\n",
    "1. Load the Data.\n",
    "    + Importing Libraries.\n",
    "    + Loading the data\n",
    "2. Building a Vocabulary from scratch.\n",
    "3. Using Scikit-learn to extract features from text data.\n",
    "4. Building the Classifier.\n",
    "\n",
    "The dataset use in this project can be found in this [link](http://www.cs.cornell.edu/people/pabo/movie-review-data/).\n",
    "<div class=\"alert alert-info\" style=\"background-color:#006a79; color:white; padding:0px 10px; border-radius:5px;\"><h2 style='margin:10px 5px'>1. Load the Data</h2>\n",
    "</div>\n",
    "\n",
    "In this section you will:\n",
    "\n",
    "- Import the libraries.\n",
    "- Load the dataset.\n",
    "\n",
    "### 1.1 Import Libraries"
   ]
  },
  {
   "cell_type": "code",
   "execution_count": 1,
   "metadata": {},
   "outputs": [],
   "source": [
    "import re\n",
    "import os\n",
    "\n",
    "import pandas as pd\n",
    "import numpy as np\n",
    "\n",
    "#for data visualization\n",
    "import matplotlib.pyplot as plt\n",
    "\n",
    "#to data split\n",
    "from sklearn.model_selection import train_test_split\n",
    "from sklearn.feature_extraction.text import CountVectorizer\n",
    "from sklearn.feature_extraction.text import TfidfTransformer\n",
    "from sklearn.metrics import classification_report, accuracy_score, confusion_matrix\n",
    "from sklearn.metrics import plot_confusion_matrix"
   ]
  },
  {
   "cell_type": "markdown",
   "metadata": {},
   "source": [
    "### 1.2 Loading the data."
   ]
  },
  {
   "cell_type": "code",
   "execution_count": 2,
   "metadata": {},
   "outputs": [],
   "source": [
    "def get_text_data(path, label = None):\n",
    "    \n",
    "    X = []\n",
    "    for review in os.listdir(path):\n",
    "        with open(os.path.join(path,review)) as f:\n",
    "            rev = f.read()\n",
    "            \n",
    "        X.append(rev)\n",
    "        \n",
    "    y = [label]*len(X)\n",
    "        \n",
    "    return X, y\n",
    "\n",
    "#folder path\n",
    "positive_review = \"review_polarity/txt_sentoken/pos\"\n",
    "negative_review = \"review_polarity/txt_sentoken/neg\"\n",
    "\n",
    "X,y = get_text_data(positive_review, label = \"pos\")\n",
    "X_neg, y_neg = get_text_data(negative_review, label = \"neg\")\n",
    "\n",
    "X += X_neg\n",
    "y += y_neg\n",
    "\n",
    "#splitting the data\n",
    "X_train, X_test, y_train, y_test = train_test_split(X,y,test_size = 0.33, random_state = 42)"
   ]
  },
  {
   "cell_type": "markdown",
   "metadata": {},
   "source": [
    "<div class=\"alert alert-info\" style=\"background-color:#006a79; color:white; padding:0px 10px; border-radius:5px;\"><h2 style='margin:10px 5px'>2. Building a vocabulary from scratch.</h2>\n",
    "</div>\n"
   ]
  },
  {
   "cell_type": "code",
   "execution_count": 3,
   "metadata": {},
   "outputs": [],
   "source": [
    "#getting the word frequency\n",
    "vocab = {}\n",
    "\n",
    "for word in X[0].split():\n",
    "    if word in vocab.keys():\n",
    "        vocab[word] += 1\n",
    "    else:\n",
    "        vocab[word] = 0"
   ]
  },
  {
   "cell_type": "code",
   "execution_count": 4,
   "metadata": {},
   "outputs": [
    {
     "data": {
      "text/plain": [
       "dict_values([2, 4, 20, 8, 10, 1, 51, 39, 5, 0, 2, 1, 0, 0, 0, 2, 1, 0, 2, 2, 17, 0, 0, 12, 36, 0, 0, 0, 55, 5, 0, 2, 16, 0, 2, 0, 0, 7, 0, 0, 15, 2, 2, 18, 1, 17, 1, 0, 0, 0, 0, 0, 4, 2, 0, 3, 1, 0, 0, 1, 4, 0, 2, 1, 2, 2, 0, 8, 0, 0, 0, 0, 0, 9, 3, 3, 0, 5, 5, 2, 4, 0, 1, 1, 0, 5, 0, 0, 0, 0, 1, 0, 5, 0, 0, 2, 0, 0, 0, 3, 0, 1, 3, 0, 0, 0, 0, 0, 0, 0, 0, 1, 1, 1, 3, 0, 1, 2, 0, 0, 0, 1, 7, 0, 0, 2, 2, 11, 0, 0, 0, 0, 0, 11, 0, 1, 0, 0, 1, 1, 2, 0, 0, 2, 0, 3, 1, 0, 0, 0, 0, 0, 0, 0, 0, 0, 0, 0, 0, 0, 0, 0, 0, 0, 3, 0, 0, 2, 1, 1, 6, 0, 1, 1, 0, 0, 0, 0, 0, 0, 0, 1, 1, 0, 0, 0, 0, 0, 0, 1, 0, 0, 0, 2, 1, 0, 0, 0, 0, 0, 5, 0, 0, 0, 0, 0, 0, 0, 0, 0, 2, 2, 0, 0, 1, 0, 0, 0, 0, 0, 1, 0, 1, 3, 1, 0, 1, 0, 0, 0, 1, 2, 0, 0, 0, 1, 2, 1, 0, 3, 1, 0, 0, 0, 0, 0, 0, 0, 1, 0, 1, 0, 1, 0, 0, 0, 0, 0, 0, 0, 0, 0, 1, 0, 0, 0, 0, 0, 0, 0, 0, 0, 0, 0, 0, 0, 1, 0, 0, 0, 0, 1, 0, 0, 1, 3, 0, 0, 0, 0, 0, 0, 0, 0, 0, 2, 0, 0, 0, 0, 0, 0, 0, 0, 0, 0, 0, 0, 0, 0, 0, 0, 1, 1, 0, 0, 0, 0, 0, 0, 0, 0, 0, 0, 0, 0, 0, 0, 0, 0, 0, 0, 0, 0, 0, 0, 0, 0, 1, 2, 0, 0, 0, 0, 0, 0, 0, 0, 0, 0, 0, 0, 0, 0, 0, 0, 0, 0, 0, 0, 0, 0, 0, 0, 0, 0, 0, 1, 0, 0, 0, 0, 0, 0, 0, 0, 0, 0, 0, 0, 0, 0, 0, 0, 2, 0, 0, 0, 0, 0, 0, 0])"
      ]
     },
     "execution_count": 4,
     "metadata": {},
     "output_type": "execute_result"
    }
   ],
   "source": [
    "vocab.values()"
   ]
  },
  {
   "cell_type": "code",
   "execution_count": 5,
   "metadata": {},
   "outputs": [
    {
     "name": "stdout",
     "output_type": "stream",
     "text": [
      "matthew     :2      than          :2      extracurricular:0      envy      :0      envied    :0      car       :0\n",
      "broderick   :4      entertain     :0      activities:0      convinces :0      because   :0      leaving   :0\n",
      "and         :20      for           :8      always    :0      against   :0      takes     :1      can       :0\n",
      "high        :8      103           :0      her       :11      claims    :0      trust     :0      see       :0\n",
      "school      :10      minutes       :0      hand      :0      democracy :0      give      :0      pride     :0\n",
      "comedy      :1      occupies      :0      up        :1      you       :5      privilege :0      eyes      :0\n",
      ".           :51      ;             :0      first     :0      need      :0      uses      :0      presents  :0\n",
      "the         :39      shocks        :0      class     :0      choices   :0      amoral    :0      list      :0\n",
      "two         :5      as            :9      extremely :1      having    :0      advantage :0      signatures:0\n",
      "terms       :0      well          :3      popular   :1      unopposed :0      including :0      making    :0\n",
      "have        :2      jim           :3      most      :2      creates   :0      principal :0      eligible  :0\n",
      "been        :1      mcallister    :0      natural   :0      dictatorship:0      former    :0      subtle    :0\n",
      "practically :0      (             :5      progression:0      sorts     :0      all       :0      disgust   :0\n",
      "inseparable :0      )             :5      when      :2      agrees    :0      paul's    :0      with      :1\n",
      "since       :0      type          :2      decides   :0      race      :0      girlfriend:0      apparent  :2\n",
      "ferris      :2      teacher       :4      run       :3      on        :2      sided     :0      although  :0\n",
      "buehler     :1      makes         :0      president :1      then      :2      characters:1      tries     :0\n",
      "took        :0      american      :1      metzler   :0      effort    :0      film's    :0      mask      :0\n",
      "day         :2      schools       :1      family    :0      spite     :0      beauty    :0      between   :0\n",
      "off         :2      proud         :0      wealthy   :0      candidates:1      doesn't   :0      lines     :0\n",
      "in          :17      he            :5      father    :0      announces :0      typical   :0      attempts  :0\n",
      "1986        :0      kind          :0      dick      :0      running   :0      hollywood :1      happy     :0\n",
      "now         :0      caring        :0      holmes    :0      campaign  :0      likes     :0      face      :0\n",
      "it          :12      younger       :0      osborne   :0      straightforward:0      instead   :0      supporting:0\n",
      "is          :36      man           :0      owns      :0      :         :0      portrayal :1      cast      :0\n",
      "13          :0      who           :1      cement    :0      people    :1      real      :3      little    :0\n",
      "years       :0      built         :0      company   :0      only      :0      specializing:0      experience:0\n",
      "later       :0      his           :5      mother    :0      put       :1      revealing :0      control   :0\n",
      ",           :55      life          :0      jo        :0      their     :3      perversions:0      part      :0\n",
      "has         :5      around        :0      jeanine   :0      college   :1      usually   :0      however   :0\n",
      "another     :0      carver        :2      jackson   :0      applications:0      keep      :0      treat     :0\n",
      "election    :2      turn          :0      ideal     :0      they      :1      themselves:0      confused  :0\n",
      "to          :16      provided      :0      housewife :0      do        :0      couldn't  :0      homosexual:0\n",
      "show        :0      home          :0      children  :0      nothing   :0      any       :0      never     :0\n",
      "world       :2      him           :3      paul      :3      i         :0      perfect   :0      scene     :0\n",
      "buehler's   :0      won           :0      chris     :0      don't     :1      role      :2      where     :0\n",
      "showed      :0      year          :1      klein     :0      even      :2      character :0      delivers  :0\n",
      "an          :7      no            :3      tammy     :2      want      :0      often     :0      speech    :0\n",
      "educational :0      less          :0      jessica   :1      go        :0      bill      :0      announcing:0\n",
      "setting     :0      three         :0      campbell  :1      says      :0      murray's  :0      so-called :0\n",
      "that        :15      times         :0      are       :6      there     :1      award     :0      platform  :0\n",
      "was         :2      12            :0      both      :0      good      :2      winning   :0      presidency:0\n",
      "similar     :2      span          :0      students  :1      guys      :1      1998      :0      just      :1\n",
      "a           :18      respected     :0      at        :1      almost    :0      rushmore  :0      marvelous :0\n",
      "pile        :1      social        :0      quarterback:0      everyone  :3      acting    :0      what      :0\n",
      "of          :17      studies       :0      football  :0      own       :1      jobs      :0      thinks    :0\n",
      "marshmallows:1      among         :1      team      :0      agenda    :0      broderick's:0      unjust    :0\n",
      "light       :0      student       :1      before    :0      matter    :0      superior  :0      system    :0\n",
      "fluffy      :0      body          :1      injured   :0      how       :0      overshadowed:0      expressed :0\n",
      "tasty       :0      tracy         :3      himself   :0      deeply    :0      by        :0      if        :0\n",
      "sparkling   :0      flick         :0      definitely:0      hidden    :0      causes    :0      made      :0\n",
      "clean       :0      reese         :1      candidate :1      digs      :0      develop   :0      feel      :0\n",
      "but         :4      witherspoon   :2      person    :1      exploits  :0      towards   :1      about     :0\n",
      "far         :2      intelligent   :0      lesbian   :0      audience  :1      simply    :1      gave      :0\n",
      "different   :0      outgoing      :0      say       :0      remember  :0      indescribable:0      innocent  :0\n",
      "this        :3      quote         :0      least     :0      from      :1      best      :0      laugh     :0\n",
      "production  :1      film          :1      going     :0      would     :0      playing   :0      or        :0\n",
      "dark        :0      \"             :7      through   :0      be        :1      each      :0      movie     :0\n",
      "frighteningly:0      super         :0      period    :0      labeled   :0      other     :0      achieved  :0\n",
      "realistic   :1      nice          :0      self      :1      likely    :0      various   :0      its       :2\n",
      "one         :4      young         :2      discovery :0      achieve   :0      scenes    :0      goal      :0\n",
      "does        :0      girl          :2      reasons   :0      anything  :0      such      :0      dare      :0\n",
      "so          :2      she           :11      revenge   :0      wants     :0      moment    :0      think     :0\n",
      "much        :1      involved      :0      hatred    :2      yearbook  :0      occurs    :0      election's:0\n",
      "more        :2      numerous      :0      sexual    :1      secretly  :0      approaches:0      goals     :0\n"
     ]
    }
   ],
   "source": [
    "keys, values = zip(*vocab.items())\n",
    "n_cols = 6\n",
    "step = len(keys)//n_cols\n",
    "\n",
    "for k1,v1,k2,v2,k3,v3,k4,v4,k5,v5,k6,v6 in zip(keys[0:step],values[0:step],\n",
    "                                               keys[step:2*step],values[step:2*step],\n",
    "                                               keys[2*step:3*step],values[2*step:3*step],\n",
    "                                               keys[3*step:4*step],values[3*step:4*step],\n",
    "                                               keys[4*step:5*step],values[4*step:5*step],\n",
    "                                               keys[5*step:6*step],values[5*step:6*step]):\n",
    "    print(f\"{k1:{12}}:{v1}      {k2:{14}}:{v2}      {k3:{10}}:{v3}      {k4:{10}}:{v4}      {k5:{10}}:{v5}      {k6:{10}}:{v6}\")"
   ]
  },
  {
   "cell_type": "markdown",
   "metadata": {},
   "source": [
    "<div class=\"alert alert-info\" style=\"background-color:#006a79; color:white; padding:0px 10px; border-radius:5px;\"><h2 style='margin:10px 5px'>3. Using Scikit-learn to extract features from text data.</h2>\n",
    "</div>\n",
    "\n",
    "\n",
    "### 3.1 CountVectorizer class"
   ]
  },
  {
   "cell_type": "code",
   "execution_count": 6,
   "metadata": {},
   "outputs": [
    {
     "data": {
      "text/plain": [
       "['document', 'second']"
      ]
     },
     "execution_count": 6,
     "metadata": {},
     "output_type": "execute_result"
    }
   ],
   "source": [
    "corpus = [\n",
    "    'This is the first document.',\n",
    "    'This document is the second document',\n",
    "    'And this is the third one',\n",
    "    'Is this the first document?'\n",
    "]\n",
    "\n",
    "#we can use the parameter \"stop_words\" to filter out stop-words\n",
    "vectorizer = CountVectorizer(stop_words=\"english\")\n",
    "X = vectorizer.fit_transform(corpus)\n",
    "\n",
    "#after the filtering process we obtain just two words for this example.\n",
    "vectorizer.get_feature_names()"
   ]
  },
  {
   "cell_type": "code",
   "execution_count": 7,
   "metadata": {},
   "outputs": [
    {
     "data": {
      "text/plain": [
       "array([[1, 0],\n",
       "       [2, 1],\n",
       "       [0, 0],\n",
       "       [1, 0]], dtype=int64)"
      ]
     },
     "execution_count": 7,
     "metadata": {},
     "output_type": "execute_result"
    }
   ],
   "source": [
    "#The word frequency looks like\n",
    "X.toarray()"
   ]
  },
  {
   "cell_type": "markdown",
   "metadata": {},
   "source": [
    "#### Using scikit-learn"
   ]
  },
  {
   "cell_type": "code",
   "execution_count": 8,
   "metadata": {},
   "outputs": [
    {
     "data": {
      "text/plain": [
       "(1340, 33470)"
      ]
     },
     "execution_count": 8,
     "metadata": {},
     "output_type": "execute_result"
    }
   ],
   "source": [
    "freq_vector = CountVectorizer(stop_words = \"english\")\n",
    "\n",
    "X_train_freq = freq_vector.fit_transform(X_train)\n",
    "X_train_freq.shape"
   ]
  },
  {
   "cell_type": "markdown",
   "metadata": {},
   "source": [
    "<div class=\"alert alert-info\" style=\"margin: 20px\">We get a sparce Matrix with 1340 reviews and 33470 features</div>\n",
    "\n",
    "### 3.2 TfidTransformer class\n",
    "\n",
    "To get the Term-frequency times inverse document-frequency we can use a scikit-learn predefined class"
   ]
  },
  {
   "cell_type": "code",
   "execution_count": 9,
   "metadata": {},
   "outputs": [
    {
     "data": {
      "text/plain": [
       "(1340, 33470)"
      ]
     },
     "execution_count": 9,
     "metadata": {},
     "output_type": "execute_result"
    }
   ],
   "source": [
    "from sklearn.feature_extraction.text import TfidfTransformer\n",
    "\n",
    "tfidf_transf = TfidfTransformer()\n",
    "\n",
    "X_train_tfidf = tfidf_transf.fit_transform(X_train_freq)\n",
    "X_train_tfidf.shape"
   ]
  },
  {
   "cell_type": "markdown",
   "metadata": {},
   "source": [
    "<div class=\"alert alert-info\" style=\"background-color:#006a79; color:white; padding:0px 10px; border-radius:5px;\"><h2 style='margin:10px 5px'>4. Building the model.</h2>\n",
    "</div>\n",
    "\n",
    "Let's create a basic classifier and see how it performs. The algorithm will be the \"Linear Support Vector\" this algorithm is able to handle sparse features and large numbers of samples."
   ]
  },
  {
   "cell_type": "code",
   "execution_count": 10,
   "metadata": {},
   "outputs": [
    {
     "data": {
      "text/plain": [
       "LinearSVC()"
      ]
     },
     "execution_count": 10,
     "metadata": {},
     "output_type": "execute_result"
    }
   ],
   "source": [
    "from sklearn.svm import LinearSVC\n",
    "\n",
    "classifier = LinearSVC()\n",
    "classifier.fit(X_train_tfidf,y_train)"
   ]
  },
  {
   "cell_type": "markdown",
   "metadata": {},
   "source": [
    "#### Using Pipeline\n",
    "\n",
    "scikit-learn provides a Pipeline class which serves to assemble several steps that can be cross-validated together."
   ]
  },
  {
   "cell_type": "code",
   "execution_count": 11,
   "metadata": {},
   "outputs": [
    {
     "data": {
      "text/plain": [
       "Pipeline(steps=[('tfidvectorizer', TfidfVectorizer()),\n",
       "                ('LinearSVC', LinearSVC())])"
      ]
     },
     "execution_count": 11,
     "metadata": {},
     "output_type": "execute_result"
    }
   ],
   "source": [
    "from sklearn.pipeline import Pipeline\n",
    "from sklearn.feature_extraction.text import TfidfVectorizer\n",
    "from sklearn.svm import LinearSVC\n",
    "\n",
    "text_classifier = Pipeline([\n",
    "    ('tfidvectorizer',TfidfVectorizer()),\n",
    "    ('LinearSVC',LinearSVC())\n",
    "])\n",
    "\n",
    "text_classifier.fit(X_train,y_train)"
   ]
  },
  {
   "cell_type": "markdown",
   "metadata": {},
   "source": [
    "#### Model Performance"
   ]
  },
  {
   "cell_type": "code",
   "execution_count": 12,
   "metadata": {},
   "outputs": [
    {
     "name": "stdout",
     "output_type": "stream",
     "text": [
      "              precision    recall  f1-score   support\n",
      "\n",
      "         neg       0.81      0.84      0.82       320\n",
      "         pos       0.85      0.81      0.83       340\n",
      "\n",
      "    accuracy                           0.83       660\n",
      "   macro avg       0.83      0.83      0.83       660\n",
      "weighted avg       0.83      0.83      0.83       660\n",
      "\n"
     ]
    }
   ],
   "source": [
    "predictions = text_classifier.predict(X_test)\n",
    "print(classification_report(predictions, y_test))"
   ]
  },
  {
   "cell_type": "code",
   "execution_count": 13,
   "metadata": {},
   "outputs": [
    {
     "data": {
      "text/plain": [
       "Text(0.5, 1.0, 'Confusion matrix')"
      ]
     },
     "execution_count": 13,
     "metadata": {},
     "output_type": "execute_result"
    },
    {
     "data": {
      "image/png": "[encoded data removed]",
      "text/plain": [
       "<Figure size 432x288 with 2 Axes>"
      ]
     },
     "metadata": {
      "needs_background": "light"
     },
     "output_type": "display_data"
    }
   ],
   "source": [
    "# Plot non-normalized confusion matrix\n",
    "title = \"Confusion matrix\"\n",
    "normalize = None\n",
    "\n",
    "class_names = text_classifier.classes_\n",
    "\n",
    "disp = plot_confusion_matrix(text_classifier, X_test, y_test,\n",
    "                             display_labels=class_names,\n",
    "                             cmap=plt.cm.Blues,\n",
    "                             normalize=normalize)\n",
    "disp.ax_.set_title(title)"
   ]
  },
  {
   "cell_type": "code",
   "execution_count": 14,
   "metadata": {},
   "outputs": [
    {
     "name": "stdout",
     "output_type": "stream",
     "text": [
      "0.8257575757575758\n"
     ]
    }
   ],
   "source": [
    "#general accuracy\n",
    "print(accuracy_score(y_test,predictions))"
   ]
  }
 ],
 "metadata": {
  "kernelspec": {
   "display_name": "Python 3",
   "language": "python",
   "name": "python3"
  },
  "language_info": {
   "codemirror_mode": {
    "name": "ipython",
    "version": 3
   },
   "file_extension": ".py",
   "mimetype": "text/x-python",
   "name": "python",
   "nbconvert_exporter": "python",
   "pygments_lexer": "ipython3",
   "version": "3.7.10"
  }
 },
 "nbformat": 4,
 "nbformat_minor": 4
}
