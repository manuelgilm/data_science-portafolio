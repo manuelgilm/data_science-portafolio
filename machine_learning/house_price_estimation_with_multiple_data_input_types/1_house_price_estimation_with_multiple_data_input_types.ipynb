{
 "cells": [
  {
   "cell_type": "markdown",
   "metadata": {},
   "source": [
    "# House price estimation with multiple inputs part 1\n",
    "\n",
    "## Table of contents\n",
    "\n",
    "+ Understanding the data\n",
    "+ Building the model.\n",
    "+ Training process.\n",
    "+ Performance\n",
    "\n",
    "## Understanding the data.\n",
    "\n",
    "The data set I'll use for this project can be found in the next [link](https://github.com/emanhamed/Houses-dataset), this data set contains both visual and textual information for house prices estimation. Each house in the data set is represented by four images for bedroom, bathroom, kitchen and frontal image of the house. \n",
    "\n",
    "The data set also contains a text file with textual metadata, each row represents the number of houses in order. The numbers represent the number of bedrooms, number of bathrooms, area of the house, zip code and the price."
   ]
  },
  {
   "cell_type": "code",
   "execution_count": 1,
   "metadata": {},
   "outputs": [],
   "source": [
    "import tensorflow as tf\n",
    "from tensorflow.keras.layers import Dense, Input\n",
    "from tensorflow.keras.utils import plot_model\n",
    "from tensorflow.keras.models import Model\n",
    "\n",
    "import matplotlib.pyplot as plt\n",
    "import pandas as pd\n",
    "import numpy as np\n",
    "\n",
    "from sklearn.model_selection import train_test_split\n",
    "from sklearn.preprocessing import StandardScaler, MinMaxScaler"
   ]
  },
  {
   "cell_type": "code",
   "execution_count": 2,
   "metadata": {},
   "outputs": [
    {
     "data": {
      "text/html": [
       "<div>\n",
       "<style scoped>\n",
       "    .dataframe tbody tr th:only-of-type {\n",
       "        vertical-align: middle;\n",
       "    }\n",
       "\n",
       "    .dataframe tbody tr th {\n",
       "        vertical-align: top;\n",
       "    }\n",
       "\n",
       "    .dataframe thead th {\n",
       "        text-align: right;\n",
       "    }\n",
       "</style>\n",
       "<table border=\"1\" class=\"dataframe\">\n",
       "  <thead>\n",
       "    <tr style=\"text-align: right;\">\n",
       "      <th></th>\n",
       "      <th>bedrooms</th>\n",
       "      <th>bathrooms</th>\n",
       "      <th>area</th>\n",
       "      <th>zipcode</th>\n",
       "      <th>price</th>\n",
       "    </tr>\n",
       "  </thead>\n",
       "  <tbody>\n",
       "    <tr>\n",
       "      <th>0</th>\n",
       "      <td>4</td>\n",
       "      <td>4.0</td>\n",
       "      <td>4053</td>\n",
       "      <td>85255</td>\n",
       "      <td>869500</td>\n",
       "    </tr>\n",
       "    <tr>\n",
       "      <th>1</th>\n",
       "      <td>4</td>\n",
       "      <td>3.0</td>\n",
       "      <td>3343</td>\n",
       "      <td>36372</td>\n",
       "      <td>865200</td>\n",
       "    </tr>\n",
       "    <tr>\n",
       "      <th>2</th>\n",
       "      <td>3</td>\n",
       "      <td>4.0</td>\n",
       "      <td>3923</td>\n",
       "      <td>85266</td>\n",
       "      <td>889000</td>\n",
       "    </tr>\n",
       "    <tr>\n",
       "      <th>3</th>\n",
       "      <td>5</td>\n",
       "      <td>5.0</td>\n",
       "      <td>4022</td>\n",
       "      <td>85262</td>\n",
       "      <td>910000</td>\n",
       "    </tr>\n",
       "    <tr>\n",
       "      <th>4</th>\n",
       "      <td>3</td>\n",
       "      <td>4.0</td>\n",
       "      <td>4116</td>\n",
       "      <td>85266</td>\n",
       "      <td>971226</td>\n",
       "    </tr>\n",
       "  </tbody>\n",
       "</table>\n",
       "</div>"
      ],
      "text/plain": [
       "   bedrooms  bathrooms  area  zipcode   price\n",
       "0         4        4.0  4053    85255  869500\n",
       "1         4        3.0  3343    36372  865200\n",
       "2         3        4.0  3923    85266  889000\n",
       "3         5        5.0  4022    85262  910000\n",
       "4         3        4.0  4116    85266  971226"
      ]
     },
     "execution_count": 2,
     "metadata": {},
     "output_type": "execute_result"
    }
   ],
   "source": [
    "def read_textual_data(path, names):\n",
    "    return pd.read_csv(path,header = None,sep = \" \", names = names)\n",
    "\n",
    "df = read_textual_data(\"../Houses-dataset/Houses-Dataset/HousesInfo.txt\",\n",
    "                       [\"bedrooms\",\"bathrooms\",\"area\",\"zipcode\",\"price\"])\n",
    "df.head()"
   ]
  },
  {
   "cell_type": "markdown",
   "metadata": {},
   "source": [
    "The data set is formed of five variables, the target value is the house's price and the rest of the variables are features that I will use to predict the target value. In the data set we see one categorical variable which is the zip code. The rest of the features are numerical. Let's see the distribution of the zip code variable."
   ]
  },
  {
   "cell_type": "code",
   "execution_count": 3,
   "metadata": {},
   "outputs": [
    {
     "data": {
      "text/html": [
       "<div>\n",
       "<style scoped>\n",
       "    .dataframe tbody tr th:only-of-type {\n",
       "        vertical-align: middle;\n",
       "    }\n",
       "\n",
       "    .dataframe tbody tr th {\n",
       "        vertical-align: top;\n",
       "    }\n",
       "\n",
       "    .dataframe thead th {\n",
       "        text-align: right;\n",
       "    }\n",
       "</style>\n",
       "<table border=\"1\" class=\"dataframe\">\n",
       "  <thead>\n",
       "    <tr style=\"text-align: right;\">\n",
       "      <th></th>\n",
       "      <th>bedrooms</th>\n",
       "      <th>bathrooms</th>\n",
       "      <th>area</th>\n",
       "      <th>zipcode</th>\n",
       "      <th>price</th>\n",
       "    </tr>\n",
       "  </thead>\n",
       "  <tbody>\n",
       "    <tr>\n",
       "      <th>count</th>\n",
       "      <td>535.000000</td>\n",
       "      <td>535.000000</td>\n",
       "      <td>535.000000</td>\n",
       "      <td>535.000000</td>\n",
       "      <td>5.350000e+02</td>\n",
       "    </tr>\n",
       "    <tr>\n",
       "      <th>mean</th>\n",
       "      <td>3.377570</td>\n",
       "      <td>2.664953</td>\n",
       "      <td>2364.904673</td>\n",
       "      <td>90937.768224</td>\n",
       "      <td>5.893628e+05</td>\n",
       "    </tr>\n",
       "    <tr>\n",
       "      <th>std</th>\n",
       "      <td>1.160952</td>\n",
       "      <td>0.995077</td>\n",
       "      <td>1224.556982</td>\n",
       "      <td>7141.857452</td>\n",
       "      <td>5.090261e+05</td>\n",
       "    </tr>\n",
       "    <tr>\n",
       "      <th>min</th>\n",
       "      <td>1.000000</td>\n",
       "      <td>1.000000</td>\n",
       "      <td>701.000000</td>\n",
       "      <td>36372.000000</td>\n",
       "      <td>2.200000e+04</td>\n",
       "    </tr>\n",
       "    <tr>\n",
       "      <th>25%</th>\n",
       "      <td>3.000000</td>\n",
       "      <td>2.000000</td>\n",
       "      <td>1440.000000</td>\n",
       "      <td>92276.000000</td>\n",
       "      <td>2.492000e+05</td>\n",
       "    </tr>\n",
       "    <tr>\n",
       "      <th>50%</th>\n",
       "      <td>3.000000</td>\n",
       "      <td>2.500000</td>\n",
       "      <td>2078.000000</td>\n",
       "      <td>92880.000000</td>\n",
       "      <td>5.290000e+05</td>\n",
       "    </tr>\n",
       "    <tr>\n",
       "      <th>75%</th>\n",
       "      <td>4.000000</td>\n",
       "      <td>3.000000</td>\n",
       "      <td>3067.500000</td>\n",
       "      <td>93510.000000</td>\n",
       "      <td>7.285000e+05</td>\n",
       "    </tr>\n",
       "    <tr>\n",
       "      <th>max</th>\n",
       "      <td>10.000000</td>\n",
       "      <td>7.000000</td>\n",
       "      <td>9583.000000</td>\n",
       "      <td>98021.000000</td>\n",
       "      <td>5.858000e+06</td>\n",
       "    </tr>\n",
       "  </tbody>\n",
       "</table>\n",
       "</div>"
      ],
      "text/plain": [
       "         bedrooms   bathrooms         area       zipcode         price\n",
       "count  535.000000  535.000000   535.000000    535.000000  5.350000e+02\n",
       "mean     3.377570    2.664953  2364.904673  90937.768224  5.893628e+05\n",
       "std      1.160952    0.995077  1224.556982   7141.857452  5.090261e+05\n",
       "min      1.000000    1.000000   701.000000  36372.000000  2.200000e+04\n",
       "25%      3.000000    2.000000  1440.000000  92276.000000  2.492000e+05\n",
       "50%      3.000000    2.500000  2078.000000  92880.000000  5.290000e+05\n",
       "75%      4.000000    3.000000  3067.500000  93510.000000  7.285000e+05\n",
       "max     10.000000    7.000000  9583.000000  98021.000000  5.858000e+06"
      ]
     },
     "execution_count": 3,
     "metadata": {},
     "output_type": "execute_result"
    }
   ],
   "source": [
    "df.describe()"
   ]
  },
  {
   "cell_type": "code",
   "execution_count": 4,
   "metadata": {},
   "outputs": [
    {
     "data": {
      "image/png": "[encoded data removed]",
      "text/plain": [
       "<Figure size 1152x288 with 2 Axes>"
      ]
     },
     "metadata": {
      "needs_background": "light"
     },
     "output_type": "display_data"
    }
   ],
   "source": [
    "# using the variable axs for multiple Axes\n",
    "labels = [\"bedrooms\",\"bathrooms\"]\n",
    "fig, axs = plt.subplots(1,2 ,figsize = (16,4))\n",
    "for n,label in enumerate(labels):\n",
    "    x = df[label].value_counts().index\n",
    "    height = df[label].value_counts().values\n",
    "    axs[n].bar(x = x, height = height,)\n",
    "    axs[n].set_xlabel(label, fontsize=14)\n",
    "    axs[n].set_ylabel(\"Houses\", fontsize = 14)"
   ]
  },
  {
   "cell_type": "code",
   "execution_count": 5,
   "metadata": {},
   "outputs": [
    {
     "data": {
      "text/plain": [
       "Text(0, 0.5, 'Houses')"
      ]
     },
     "execution_count": 5,
     "metadata": {},
     "output_type": "execute_result"
    },
    {
     "data": {
      "image/png": "[encoded data removed]",
      "text/plain": [
       "<Figure size 1152x432 with 1 Axes>"
      ]
     },
     "metadata": {
      "needs_background": "light"
     },
     "output_type": "display_data"
    }
   ],
   "source": [
    "plt.figure(figsize=(16,6))\n",
    "x = df[\"zipcode\"].value_counts(sort=False).index\n",
    "height = df[\"zipcode\"].value_counts(sort = False).values\n",
    "plt.bar(range(len(x)), height = height)\n",
    "plt.xticks(range(len(x)),x);\n",
    "plt.xticks(rotation=90);\n",
    "plt.xlabel(\"zipcode\", fontsize = 14)\n",
    "plt.ylabel(\"Houses\", fontsize = 14)"
   ]
  },
  {
   "cell_type": "markdown",
   "metadata": {},
   "source": [
    "House distribution by zip code is highly unbalanced, so we need to pay special attention about how to feed any model with this feature since we have sometimes one or two houses by zip code. I will remove all the zip code rows having less than 25 houses. Now let's see what the distribution looks like with the changes in the zip code column."
   ]
  },
  {
   "cell_type": "code",
   "execution_count": 6,
   "metadata": {},
   "outputs": [],
   "source": [
    "zipcode_rm = df[\"zipcode\"].value_counts()\n",
    "for idx, val in zip(df[\"zipcode\"].value_counts().keys().tolist(), df[\"zipcode\"].value_counts().values.tolist()):\n",
    "    if val <= 13:\n",
    "        df.drop(df[df[\"zipcode\"]==idx].index, inplace = True)"
   ]
  },
  {
   "cell_type": "code",
   "execution_count": 7,
   "metadata": {},
   "outputs": [
    {
     "data": {
      "text/plain": [
       "Text(0, 0.5, 'Houses')"
      ]
     },
     "execution_count": 7,
     "metadata": {},
     "output_type": "execute_result"
    },
    {
     "data": {
      "image/png": "[encoded data removed]",
      "text/plain": [
       "<Figure size 1152x432 with 1 Axes>"
      ]
     },
     "metadata": {
      "needs_background": "light"
     },
     "output_type": "display_data"
    }
   ],
   "source": [
    "plt.figure(figsize=(16,6))\n",
    "x = df[\"zipcode\"].value_counts(sort=False).index\n",
    "height = df[\"zipcode\"].value_counts(sort = False).values\n",
    "plt.bar(range(len(x)), height = height)\n",
    "plt.xticks(range(len(x)),x);\n",
    "plt.xticks(rotation=90);\n",
    "plt.xlabel(\"zipcode\", fontsize = 14)\n",
    "plt.ylabel(\"Houses\", fontsize = 14)"
   ]
  },
  {
   "cell_type": "markdown",
   "metadata": {},
   "source": [
    "Now we still have some problems with the class balance, but it is less than before. The next step is to convert all the categorical data in indicator variables, I'll do this using the get_dummies() method from pandas."
   ]
  },
  {
   "cell_type": "code",
   "execution_count": 8,
   "metadata": {},
   "outputs": [
    {
     "data": {
      "text/html": [
       "<div>\n",
       "<style scoped>\n",
       "    .dataframe tbody tr th:only-of-type {\n",
       "        vertical-align: middle;\n",
       "    }\n",
       "\n",
       "    .dataframe tbody tr th {\n",
       "        vertical-align: top;\n",
       "    }\n",
       "\n",
       "    .dataframe thead th {\n",
       "        text-align: right;\n",
       "    }\n",
       "</style>\n",
       "<table border=\"1\" class=\"dataframe\">\n",
       "  <thead>\n",
       "    <tr style=\"text-align: right;\">\n",
       "      <th></th>\n",
       "      <th>z_91901</th>\n",
       "      <th>z_92276</th>\n",
       "      <th>z_92677</th>\n",
       "      <th>z_92880</th>\n",
       "      <th>z_93446</th>\n",
       "      <th>z_93510</th>\n",
       "      <th>z_94501</th>\n",
       "      <th>z_94531</th>\n",
       "    </tr>\n",
       "  </thead>\n",
       "  <tbody>\n",
       "    <tr>\n",
       "      <th>30</th>\n",
       "      <td>0</td>\n",
       "      <td>0</td>\n",
       "      <td>0</td>\n",
       "      <td>0</td>\n",
       "      <td>1</td>\n",
       "      <td>0</td>\n",
       "      <td>0</td>\n",
       "      <td>0</td>\n",
       "    </tr>\n",
       "    <tr>\n",
       "      <th>32</th>\n",
       "      <td>0</td>\n",
       "      <td>0</td>\n",
       "      <td>0</td>\n",
       "      <td>0</td>\n",
       "      <td>1</td>\n",
       "      <td>0</td>\n",
       "      <td>0</td>\n",
       "      <td>0</td>\n",
       "    </tr>\n",
       "    <tr>\n",
       "      <th>39</th>\n",
       "      <td>0</td>\n",
       "      <td>0</td>\n",
       "      <td>0</td>\n",
       "      <td>0</td>\n",
       "      <td>1</td>\n",
       "      <td>0</td>\n",
       "      <td>0</td>\n",
       "      <td>0</td>\n",
       "    </tr>\n",
       "    <tr>\n",
       "      <th>80</th>\n",
       "      <td>1</td>\n",
       "      <td>0</td>\n",
       "      <td>0</td>\n",
       "      <td>0</td>\n",
       "      <td>0</td>\n",
       "      <td>0</td>\n",
       "      <td>0</td>\n",
       "      <td>0</td>\n",
       "    </tr>\n",
       "    <tr>\n",
       "      <th>81</th>\n",
       "      <td>1</td>\n",
       "      <td>0</td>\n",
       "      <td>0</td>\n",
       "      <td>0</td>\n",
       "      <td>0</td>\n",
       "      <td>0</td>\n",
       "      <td>0</td>\n",
       "      <td>0</td>\n",
       "    </tr>\n",
       "  </tbody>\n",
       "</table>\n",
       "</div>"
      ],
      "text/plain": [
       "    z_91901  z_92276  z_92677  z_92880  z_93446  z_93510  z_94501  z_94531\n",
       "30        0        0        0        0        1        0        0        0\n",
       "32        0        0        0        0        1        0        0        0\n",
       "39        0        0        0        0        1        0        0        0\n",
       "80        1        0        0        0        0        0        0        0\n",
       "81        1        0        0        0        0        0        0        0"
      ]
     },
     "execution_count": 8,
     "metadata": {},
     "output_type": "execute_result"
    }
   ],
   "source": [
    "pd.get_dummies(df.zipcode, prefix = \"z\").head()"
   ]
  },
  {
   "cell_type": "code",
   "execution_count": 9,
   "metadata": {},
   "outputs": [],
   "source": [
    "def processing_data(df, test_size):\n",
    "    # categorical variable\n",
    "    df_zipcode = pd.get_dummies(df.zipcode, prefix = \"z\")\n",
    "\n",
    "    df_num = df[[\"bedrooms\",\"bathrooms\",\"area\",\"price\"]]\n",
    "    \n",
    "    #Mixing the data\n",
    "    processed_data = pd.concat([df_zipcode, df_num] , axis = 1)\n",
    "    \n",
    "    #splitting the data\n",
    "    train, test = train_test_split(processed_data, test_size = test_size, random_state = 43)\n",
    "    \n",
    "    #training data\n",
    "    x_train = train.drop([\"price\"], axis = 1)\n",
    "    y_train = train[\"price\"]\n",
    "    \n",
    "    #testing data\n",
    "    x_test = test.drop([\"price\"], axis = 1)\n",
    "    y_test = test[\"price\"]\n",
    "    \n",
    "    #min max scaler\n",
    "    data_scaler = MinMaxScaler()\n",
    "    \n",
    "    #scaling the train data\n",
    "    x_train_scaled = data_scaler.fit_transform(x_train)\n",
    "    y_train_scaled = y_train/np.max(y_train)\n",
    "    \n",
    "    #scaling the test data\n",
    "    x_test_scaled = data_scaler.transform(x_test)    \n",
    "    y_test_scaled = y_test/np.max(y_train)\n",
    "        \n",
    "    return {\n",
    "        \"x_train\":x_train,\n",
    "        \"y_train\":y_train,\n",
    "        \"x_test\":x_test,\n",
    "        \"y_test\":y_test,\n",
    "        \"x_train_scaled\":x_train_scaled,\n",
    "        \"y_train_scaled\":y_train_scaled,\n",
    "        \"x_test_scaled\":x_test_scaled,\n",
    "        \"y_test_scaled\":y_test_scaled,\n",
    "        \"data_scaler\":data_scaler,\n",
    "    }"
   ]
  },
  {
   "cell_type": "markdown",
   "metadata": {},
   "source": [
    "### Splitting the data\n"
   ]
  },
  {
   "cell_type": "code",
   "execution_count": 10,
   "metadata": {},
   "outputs": [],
   "source": [
    "processed_data = processing_data(df, 0.3)"
   ]
  },
  {
   "cell_type": "markdown",
   "metadata": {},
   "source": [
    "## Building the model\n",
    "\n",
    "In this case we are dealing with a regression problem, there are many methods to deal with this kind of problem, but for this time I will use tensorflow and keras to build a regression model. Keras offers the opportunity to create neural network architectures easily and faster. The functional API allows more flexibility to build our models."
   ]
  },
  {
   "cell_type": "code",
   "execution_count": 11,
   "metadata": {},
   "outputs": [],
   "source": [
    "input_layer = Input(shape=(processed_data[\"x_train_scaled\"].shape[1]))\n",
    "\n",
    "# dense layers\n",
    "first_dense = Dense(16, activation= \"relu\")(input_layer)\n",
    "second_dense = Dense(8, activation = \"relu\")(first_dense)\n",
    "\n",
    "#last layer (regression output)\n",
    "last_layer = Dense(1, activation =\"linear\")(second_dense)\n",
    "\n",
    "model = Model(inputs = input_layer, outputs = last_layer)"
   ]
  },
  {
   "cell_type": "markdown",
   "metadata": {},
   "source": [
    "In the input layer I am defining the shape of the training data set,  the first dense and second dense layers which have 16 and 8 neurons respectively using the \"relu\" activation function. The last layer since will be the output layer needs only one output and should use the \"linear\" activation function since it is a regression problem. Finally, I built the model defining the inputs and outputs model. The architecture is shown below."
   ]
  },
  {
   "cell_type": "code",
   "execution_count": 12,
   "metadata": {},
   "outputs": [
    {
     "data": {
      "image/png": "[encoded data removed]",
      "text/plain": [
       "<IPython.core.display.Image object>"
      ]
     },
     "execution_count": 12,
     "metadata": {},
     "output_type": "execute_result"
    }
   ],
   "source": [
    "plot_model(model, show_layer_names=True, show_shapes=True)"
   ]
  },
  {
   "cell_type": "markdown",
   "metadata": {},
   "source": [
    "### Training the model\n",
    "\n",
    "To train the model I need to use the compile method to define the loss function and the metric to be used."
   ]
  },
  {
   "cell_type": "code",
   "execution_count": 13,
   "metadata": {},
   "outputs": [],
   "source": [
    "optimizer = tf.keras.optimizers.Adam(lr=0.001)#tf.keras.optimizers.Adam(lr=0.001)\n",
    "\n",
    "model.compile(optimizer= optimizer, loss=\"mae\")\n",
    "\n",
    "history = model.fit(\n",
    "    x = processed_data[\"x_train_scaled\"],\n",
    "    y = processed_data[\"y_train_scaled\"],\n",
    "    epochs = 200,\n",
    "    validation_data = (processed_data[\"x_test_scaled\"], processed_data[\"y_test_scaled\"]),\n",
    "    batch_size = 16,\n",
    "    verbose = 0\n",
    ")"
   ]
  },
  {
   "cell_type": "markdown",
   "metadata": {},
   "source": [
    "Now let's look at the training process history, we can see that both the loss metric and the root mean squared error are high at the beginning and decrease gradually through the epochs, we can notice how the validation metric is always higher than the metric obtained with the training data."
   ]
  },
  {
   "cell_type": "code",
   "execution_count": 14,
   "metadata": {},
   "outputs": [
    {
     "data": {
      "text/plain": [
       "dict_keys(['loss', 'val_loss'])"
      ]
     },
     "execution_count": 14,
     "metadata": {},
     "output_type": "execute_result"
    }
   ],
   "source": [
    "history.history.keys()"
   ]
  },
  {
   "cell_type": "code",
   "execution_count": 15,
   "metadata": {},
   "outputs": [
    {
     "data": {
      "text/plain": [
       "<matplotlib.legend.Legend at 0x7f4c4c33e880>"
      ]
     },
     "execution_count": 15,
     "metadata": {},
     "output_type": "execute_result"
    },
    {
     "data": {
      "image/png": "[encoded data removed]",
      "text/plain": [
       "<Figure size 1152x432 with 1 Axes>"
      ]
     },
     "metadata": {
      "needs_background": "light"
     },
     "output_type": "display_data"
    }
   ],
   "source": [
    "plt.figure(figsize=(16,6))\n",
    "plt.plot(history.history[\"loss\"], label = \"Loss\")\n",
    "plt.plot(history.history[\"val_loss\"], label = \"Val Loss\")\n",
    "plt.xlabel(\"Epochs\", fontsize = 14)\n",
    "plt.ylabel(\"Loss\", fontsize = 14)\n",
    "plt.grid()\n",
    "plt.legend(loc = \"best\")"
   ]
  },
  {
   "cell_type": "code",
   "execution_count": 16,
   "metadata": {},
   "outputs": [],
   "source": [
    "predictions = model.predict(processed_data[\"x_test_scaled\"]).flatten()"
   ]
  },
  {
   "cell_type": "code",
   "execution_count": 17,
   "metadata": {},
   "outputs": [
    {
     "data": {
      "image/png": "[encoded data removed]",
      "text/plain": [
       "<Figure size 576x576 with 1 Axes>"
      ]
     },
     "metadata": {
      "needs_background": "light"
     },
     "output_type": "display_data"
    }
   ],
   "source": [
    "plt.figure(figsize = (8,8))\n",
    "plt.scatter(predictions, processed_data[\"y_test_scaled\"])\n",
    "plt.title(\"Predictions vs Real\", fontsize = 18)\n",
    "plt.xlabel(\"Predictions\", fontsize = 14)\n",
    "plt.ylabel(\"Real\", fontsize = 14)\n",
    "plt.grid()\n"
   ]
  },
  {
   "cell_type": "code",
   "execution_count": 18,
   "metadata": {},
   "outputs": [],
   "source": [
    "#error\n",
    "error = predictions-processed_data[\"y_test_scaled\"]\n",
    "\n",
    "#mean absolute error \n",
    "mae = np.round(np.mean(np.abs(error)),2)\n",
    "\n",
    "#root mean squared error\n",
    "rmse = np.round(np.sqrt(np.mean(np.square(error))),2)"
   ]
  },
  {
   "cell_type": "code",
   "execution_count": 19,
   "metadata": {},
   "outputs": [
    {
     "name": "stdout",
     "output_type": "stream",
     "text": [
      "MAE: 0.02 RMSE: 0.04\n"
     ]
    }
   ],
   "source": [
    "print(f\"MAE: {mae} RMSE: {rmse}\")"
   ]
  },
  {
   "cell_type": "code",
   "execution_count": 20,
   "metadata": {},
   "outputs": [
    {
     "data": {
      "image/png": "[encoded data removed]",
      "text/plain": [
       "<Figure size 1152x432 with 1 Axes>"
      ]
     },
     "metadata": {
      "needs_background": "light"
     },
     "output_type": "display_data"
    }
   ],
   "source": [
    "#error plot\n",
    "plt.figure(figsize = (16,6))\n",
    "plt.scatter(error.index, error.values)\n",
    "plt.ylabel(\"Error\", fontsize = 14)\n",
    "plt.xlabel(\"Index\", fontsize = 14)\n",
    "plt.title(\"Error plot\")\n",
    "plt.grid()"
   ]
  },
  {
   "cell_type": "code",
   "execution_count": 21,
   "metadata": {},
   "outputs": [
    {
     "data": {
      "text/plain": [
       "699900"
      ]
     },
     "execution_count": 21,
     "metadata": {},
     "output_type": "execute_result"
    }
   ],
   "source": [
    "#real data\n",
    "processed_data[\"y_test\"].loc[430]"
   ]
  },
  {
   "cell_type": "code",
   "execution_count": 22,
   "metadata": {},
   "outputs": [
    {
     "data": {
      "text/plain": [
       "707455.9510052204"
      ]
     },
     "execution_count": 22,
     "metadata": {},
     "output_type": "execute_result"
    }
   ],
   "source": [
    "#predicted data\n",
    "predictions[0]*max(processed_data[\"y_train\"])"
   ]
  },
  {
   "cell_type": "code",
   "execution_count": null,
   "metadata": {},
   "outputs": [],
   "source": []
  }
 ],
 "metadata": {
  "kernelspec": {
   "display_name": "Python 3",
   "language": "python",
   "name": "python3"
  },
  "language_info": {
   "codemirror_mode": {
    "name": "ipython",
    "version": 3
   },
   "file_extension": ".py",
   "mimetype": "text/x-python",
   "name": "python",
   "nbconvert_exporter": "python",
   "pygments_lexer": "ipython3",
   "version": "3.8.3"
  }
 },
 "nbformat": 4,
 "nbformat_minor": 4
}
