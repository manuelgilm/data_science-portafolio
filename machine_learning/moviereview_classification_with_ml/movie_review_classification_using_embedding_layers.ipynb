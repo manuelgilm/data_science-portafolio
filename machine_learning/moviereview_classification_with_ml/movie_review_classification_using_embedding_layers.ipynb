{
 "cells": [
  {
   "cell_type": "markdown",
   "metadata": {},
   "source": [
    "<div class=\"alert\" style=\"background-color:#fff; color:white; padding:0px 10px; border-radius:5px;\"><h1 style='margin:15px 15px; color:#006a79; font-size:40px'>Movie review classification with Scikit Learn.</h1>\n",
    "</div>\n",
    "\n",
    "<strong>Content:</strong>\n",
    "\n",
    "1. Load the Data.\n",
    "    + Importing Libraries.\n",
    "    + Loading the data\n",
    "2. Text Processing.\n",
    "3. Splitting the data.\n",
    "4. Building the Classifier.\n",
    "    + Implementing callbacks\n",
    "    + Training history\n",
    "5. Model performance.\n",
    "\n",
    "The dataset use in this project can be found in this [link](https://www.kaggle.com/lakshmi25npathi/imdb-dataset-of-50k-movie-reviews?select=IMDB+Dataset.csv).\n",
    "<div class=\"alert alert-info\" style=\"background-color:#006a79; color:white; padding:0px 10px; border-radius:5px;\"><h2 style='margin:10px 5px'>1. Load the Data</h2>\n",
    "</div>\n",
    "\n",
    "In this section you will:\n",
    "\n",
    "- Import the libraries.\n",
    "- Load the dataset.\n",
    "\n",
    "### 1.1 Import Libraries"
   ]
  },
  {
   "cell_type": "code",
   "execution_count": 1,
   "metadata": {},
   "outputs": [],
   "source": [
    "import os\n",
    "import io\n",
    "import re\n",
    "\n",
    "import pandas as pd\n",
    "import numpy as np\n",
    "\n",
    "#for data visualization\n",
    "import matplotlib.pyplot as plt\n",
    "import plotly.graph_objects as go\n",
    "\n",
    "#for machine learning models\n",
    "import tensorflow as tf\n",
    "from tensorflow.keras.models import Sequential\n",
    "from tensorflow.keras.layers import GlobalAveragePooling1D, Dense\n",
    "from tensorflow.keras import preprocessing\n",
    "from tensorflow.keras.layers import Embedding\n",
    "from tensorflow.keras.preprocessing.text import Tokenizer\n",
    "from tensorflow.keras.preprocessing.sequence import pad_sequences\n",
    "from tensorflow.keras.utils import plot_model\n",
    "\n",
    "from sklearn.metrics import confusion_matrix, classification_report\n",
    "from sklearn.metrics import plot_confusion_matrix"
   ]
  },
  {
   "cell_type": "markdown",
   "metadata": {},
   "source": [
    "### 1.2 Loading and cleaning the data."
   ]
  },
  {
   "cell_type": "code",
   "execution_count": 2,
   "metadata": {},
   "outputs": [
    {
     "data": {
      "text/plain": [
       "negative    25000\n",
       "positive    25000\n",
       "Name: sentiment, dtype: int64"
      ]
     },
     "execution_count": 2,
     "metadata": {},
     "output_type": "execute_result"
    }
   ],
   "source": [
    "#reading the dataset\n",
    "df = pd.read_csv(\"IMDB Dataset.csv\")\n",
    "\n",
    "#cleaning Nan values\n",
    "df.dropna(inplace = True)\n",
    "\n",
    "#cleaning reviews which are spaces\n",
    "spaces = []\n",
    "for i,rev,label in df.itertuples():\n",
    "    if rev.isspace():\n",
    "        spaces.append(i)\n",
    "        \n",
    "df.drop(spaces, inplace = True)\n",
    "\n",
    "#getting labeling count\n",
    "df[\"sentiment\"].value_counts()"
   ]
  },
  {
   "cell_type": "code",
   "execution_count": 3,
   "metadata": {},
   "outputs": [
    {
     "data": {
      "text/html": [
       "<div>\n",
       "<style scoped>\n",
       "    .dataframe tbody tr th:only-of-type {\n",
       "        vertical-align: middle;\n",
       "    }\n",
       "\n",
       "    .dataframe tbody tr th {\n",
       "        vertical-align: top;\n",
       "    }\n",
       "\n",
       "    .dataframe thead th {\n",
       "        text-align: right;\n",
       "    }\n",
       "</style>\n",
       "<table border=\"1\" class=\"dataframe\">\n",
       "  <thead>\n",
       "    <tr style=\"text-align: right;\">\n",
       "      <th></th>\n",
       "      <th>review</th>\n",
       "      <th>sentiment</th>\n",
       "      <th>clean_review</th>\n",
       "      <th>labels</th>\n",
       "    </tr>\n",
       "  </thead>\n",
       "  <tbody>\n",
       "    <tr>\n",
       "      <th>0</th>\n",
       "      <td>One of the other reviewers has mentioned that ...</td>\n",
       "      <td>positive</td>\n",
       "      <td>One of the other reviewers has mentioned that ...</td>\n",
       "      <td>1</td>\n",
       "    </tr>\n",
       "    <tr>\n",
       "      <th>1</th>\n",
       "      <td>A wonderful little production. &lt;br /&gt;&lt;br /&gt;The...</td>\n",
       "      <td>positive</td>\n",
       "      <td>A wonderful little production. The filming tec...</td>\n",
       "      <td>1</td>\n",
       "    </tr>\n",
       "    <tr>\n",
       "      <th>2</th>\n",
       "      <td>I thought this was a wonderful way to spend ti...</td>\n",
       "      <td>positive</td>\n",
       "      <td>I thought this was a wonderful way to spend ti...</td>\n",
       "      <td>1</td>\n",
       "    </tr>\n",
       "    <tr>\n",
       "      <th>3</th>\n",
       "      <td>Basically there's a family where a little boy ...</td>\n",
       "      <td>negative</td>\n",
       "      <td>Basically there's a family where a little boy ...</td>\n",
       "      <td>0</td>\n",
       "    </tr>\n",
       "    <tr>\n",
       "      <th>4</th>\n",
       "      <td>Petter Mattei's \"Love in the Time of Money\" is...</td>\n",
       "      <td>positive</td>\n",
       "      <td>Petter Mattei's \"Love in the Time of Money\" is...</td>\n",
       "      <td>1</td>\n",
       "    </tr>\n",
       "  </tbody>\n",
       "</table>\n",
       "</div>"
      ],
      "text/plain": [
       "                                              review sentiment  \\\n",
       "0  One of the other reviewers has mentioned that ...  positive   \n",
       "1  A wonderful little production. <br /><br />The...  positive   \n",
       "2  I thought this was a wonderful way to spend ti...  positive   \n",
       "3  Basically there's a family where a little boy ...  negative   \n",
       "4  Petter Mattei's \"Love in the Time of Money\" is...  positive   \n",
       "\n",
       "                                        clean_review  labels  \n",
       "0  One of the other reviewers has mentioned that ...       1  \n",
       "1  A wonderful little production. The filming tec...       1  \n",
       "2  I thought this was a wonderful way to spend ti...       1  \n",
       "3  Basically there's a family where a little boy ...       0  \n",
       "4  Petter Mattei's \"Love in the Time of Money\" is...       1  "
      ]
     },
     "execution_count": 3,
     "metadata": {},
     "output_type": "execute_result"
    }
   ],
   "source": [
    "def clean_html(raw_html:str) -> str:\n",
    "    '''Clean raw html.\n",
    "    Input:    raw_html    Text with HTML tags\n",
    "    return:   clean_text  Clean text\n",
    "    \n",
    "    '''\n",
    "    pattern = re.compile('<.*?>')\n",
    "    clean_text = re.sub(pattern, '', raw_html)\n",
    "    return clean_text\n",
    "\n",
    "#cleaning reviews\n",
    "df[\"clean_review\"] = df[\"review\"].apply(lambda x:clean_html(x))\n",
    "\n",
    "#labeling 1 for positive 0 for negative\n",
    "df[\"labels\"] = df[\"sentiment\"].apply(lambda x:1 if x == \"positive\" else 0)\n",
    "\n",
    "df.head()"
   ]
  },
  {
   "cell_type": "markdown",
   "metadata": {},
   "source": [
    "<div class=\"alert alert-info\" style=\"background-color:#006a79; color:white; padding:0px 10px; border-radius:5px;\"><h2 style='margin:10px 5px'>2. Text Processing</h2>\n",
    "</div>\n",
    "\n",
    "### 2.1 Tokenization\n",
    "\n",
    "I will transform the text data into tokens, the minimum unit of information (at word level)"
   ]
  },
  {
   "cell_type": "code",
   "execution_count": 4,
   "metadata": {},
   "outputs": [],
   "source": [
    "#length of the review\n",
    "maxlen = 100\n",
    "\n",
    "#to training the model\n",
    "training_samples = 40000 \n",
    "\n",
    "#to test the model\n",
    "validation_samples = 10000 \n",
    "\n",
    "#The max number of words to keep\n",
    "max_words = 10000\n",
    "\n",
    "texts = df[\"clean_review\"]\n",
    "labels = df[\"labels\"]\n",
    "\n",
    "tokenizer = Tokenizer(num_words = max_words)\n",
    "tokenizer.fit_on_texts(texts)"
   ]
  },
  {
   "cell_type": "code",
   "execution_count": 5,
   "metadata": {},
   "outputs": [],
   "source": [
    "#word index\n",
    "word_index = tokenizer.word_index\n",
    "\n",
    "#creating sequences.\n",
    "sequences = tokenizer.texts_to_sequences(texts)\n",
    "\n",
    "#padding the sequences (maxlen was defined previously, here maxlen =100)\n",
    "data = pad_sequences(sequences, maxlen=maxlen)"
   ]
  },
  {
   "cell_type": "markdown",
   "metadata": {},
   "source": [
    "<div class=\"alert alert-info\" style=\"margin: 20px\">Example</div>\n"
   ]
  },
  {
   "cell_type": "code",
   "execution_count": 6,
   "metadata": {},
   "outputs": [
    {
     "name": "stdout",
     "output_type": "stream",
     "text": [
      "\n",
      "\n",
      "Index Sequence:\n",
      "[ 122  209 3237   67   13   33 1635    8   12 2242    9  412  130    9\n",
      "   12 1591   14    8   17   13    9  286   50    9 1415    3 1279   14\n",
      " 3182    2  188    5    1  297 2042    4 2149  569   20   38  569   17\n",
      " 7655 7151 5006   25 2981   41   14    3 6898  503   19  641    2   75\n",
      "  242   15    8   68 7596  650  709 6898  108  662   81 1207  692    5\n",
      "   64  573    4  917 2019   37 1207  558  146 3182   21  199  425 3816\n",
      "   15   47    6 3310  802 1600   42   21   66   75    7 1226   15  124\n",
      " 4102  485]\n",
      "\n",
      "\n",
      "Text Sequence:\n",
      "ever saw struck me as so nasty it was surreal i couldn't say i was ready for it but as i watched more i developed a taste for oz and got to the high levels of graphic violence not just violence but injustice crooked guards be sold out for a inmates kill on order and get away with it well mannered middle class inmates being turned into prison due to their lack of street skills or prison experience watching oz you may become comfortable with what is uncomfortable viewing thats if you can get in touch with your darker side\n",
      "\n",
      "\n",
      "Index Sequence:\n",
      "[   1 2291  174 3334   95   21   66  370   62    1  790 9710   30    1\n",
      " 1831    5 7362 6593   20   60    6    8   68  277    1  146   17    8\n",
      "    6    3  405    2 2401  411    3 4336  351   40   26    4    1   77\n",
      "    4  202    2   23  113    1 1845   61  269  343   15    1  119  176\n",
      "    1 1027    4    1 2936   59  247   70  355    1 2208 3125 1287 1191\n",
      "   90 4906    8  296   19  258 1828    2  258 4590  581   15    1  134\n",
      " 3689    2    2    1  727  581    4   64 1054   15  169 2294   22 1975\n",
      "   68  220]\n",
      "\n",
      "\n",
      "Text Sequence:\n",
      "the voices down pat too you can truly see the editing guided by the references to diary entries not only is it well worth the watching but it is a written and performed piece a masterful production about one of the great of comedy and his life the realism really comes home with the little things the fantasy of the guard which rather than use the traditional techniques remains solid then disappears it plays on our knowledge and our senses particularly with the scenes concerning and and the sets particularly of their flat with every surface are terribly well done\n",
      "\n",
      "\n",
      "Index Sequence:\n",
      "[ 219  233 2916 5192    9  189    8   12 3056   11 2966 2047    6  129\n",
      " 1402    7 1138    4    1  395  105    4  175   24 2077    5  111   10\n",
      "   12    1   87  481 1452   29   26    4 1313    7  152 3026    9  130\n",
      "    3 2120  135  197  109   74 1505   15 8924    7   10   58 1321    5\n",
      " 1258  174   39 1255 1428    2 5074  201   81    3  847   17 3607  185\n",
      "  256   10  199   20   25    1 7239 5173    4   23  628   17    8   12\n",
      "   70 2243 2926    2   50  217   70 2656    3   77  202    5  138   62\n",
      "   15  349]\n",
      "\n",
      "\n",
      "Text Sequence:\n",
      "point 2 risk addiction i thought it was proof that woody allen is still fully in control of the style many of us have grown to love this was the most i'd laughed at one of comedies in years dare i say a decade while i've never been impressed with scarlet in this she managed to tone down her sexy image and jumped right into a average but spirited young woman this may not be the crown jewel of his career but it was than devil wears and more interesting than superman a great comedy to go see with friends\n"
     ]
    }
   ],
   "source": [
    "#word index revers to maps indexes to words\n",
    "word_index_reverse = {val:key for key,val in word_index.items()}\n",
    "\n",
    "for i in range(3):\n",
    "    print(\"\\n\")\n",
    "    print(\"Index Sequence:\")\n",
    "    print(data[i])\n",
    "    print(\"\\n\")\n",
    "    print(\"Text Sequence:\")\n",
    "    text_sequence = [word_index_reverse[idx] for idx in data[i]]\n",
    "    print(' '.join(text_sequence))"
   ]
  },
  {
   "cell_type": "markdown",
   "metadata": {},
   "source": [
    "<div class=\"alert alert-info\" style=\"background-color:#006a79; color:white; padding:0px 10px; border-radius:5px;\"><h2 style='margin:10px 5px'>3. Splitting the data</h2>\n",
    "</div>"
   ]
  },
  {
   "cell_type": "code",
   "execution_count": 7,
   "metadata": {},
   "outputs": [],
   "source": [
    "#we need random indexing to avoid biased learning\n",
    "index = np.arange(data.shape[0])\n",
    "np.random.shuffle(index)\n",
    "data = data[index]\n",
    "labels = labels[index]\n",
    "\n",
    "#creating the training and \n",
    "x_train = data[:training_samples]\n",
    "y_train = labels[:training_samples]\n",
    "x_val = data[training_samples:training_samples+validation_samples]\n",
    "y_val = labels[training_samples:training_samples+validation_samples]"
   ]
  },
  {
   "cell_type": "markdown",
   "metadata": {},
   "source": [
    "<div class=\"alert alert-info\" style=\"background-color:#006a79; color:white; padding:0px 10px; border-radius:5px;\"><h2 style='margin:10px 5px'>4. Building the classifier.</h2>\n",
    "</div>"
   ]
  },
  {
   "cell_type": "code",
   "execution_count": 8,
   "metadata": {},
   "outputs": [
    {
     "name": "stdout",
     "output_type": "stream",
     "text": [
      "Model: \"sequential\"\n",
      "_________________________________________________________________\n",
      "Layer (type)                 Output Shape              Param #   \n",
      "=================================================================\n",
      "embedding (Embedding)        (None, 100, 64)           640000    \n",
      "_________________________________________________________________\n",
      "global_average_pooling1d (Gl (None, 64)                0         \n",
      "_________________________________________________________________\n",
      "dense (Dense)                (None, 6)                 390       \n",
      "_________________________________________________________________\n",
      "dense_1 (Dense)              (None, 1)                 7         \n",
      "=================================================================\n",
      "Total params: 640,397\n",
      "Trainable params: 640,397\n",
      "Non-trainable params: 0\n",
      "_________________________________________________________________\n"
     ]
    }
   ],
   "source": [
    "#Embedding dimension\n",
    "embedding_dim = 64\n",
    "\n",
    "\n",
    "#building the model\n",
    "model = Sequential()\n",
    "model.add(Embedding(max_words,embedding_dim,input_length=maxlen))\n",
    "model.add(GlobalAveragePooling1D())\n",
    "model.add(Dense(6,activation = \"relu\"))\n",
    "model.add(Dense(1, activation=\"sigmoid\"))\n",
    "model.compile(optimizer=\"rmsprop\",loss=\"binary_crossentropy\", metrics=[\"acc\"])\n",
    "model.summary()"
   ]
  },
  {
   "cell_type": "code",
   "execution_count": 9,
   "metadata": {},
   "outputs": [
    {
     "data": {
      "image/png": "[encoded data removed]",
      "text/plain": [
       "<IPython.core.display.Image object>"
      ]
     },
     "execution_count": 9,
     "metadata": {},
     "output_type": "execute_result"
    }
   ],
   "source": [
    "#plotting the model architecture\n",
    "plot_model(model, show_shapes=True)"
   ]
  },
  {
   "cell_type": "markdown",
   "metadata": {},
   "source": [
    "### Implementing callbacks\n",
    "\n",
    "Let's use stop early to avoid overfitting and reduce lr to improve the learning process"
   ]
  },
  {
   "cell_type": "code",
   "execution_count": 10,
   "metadata": {},
   "outputs": [
    {
     "name": "stdout",
     "output_type": "stream",
     "text": [
      "Epoch 1/100\n",
      "1250/1250 [==============================] - 15s 12ms/step - loss: 0.4330 - acc: 0.8160 - val_loss: 0.3198 - val_acc: 0.8616 - lr: 0.0010\n",
      "Epoch 2/100\n",
      "1250/1250 [==============================] - 12s 9ms/step - loss: 0.2878 - acc: 0.8777 - val_loss: 0.3131 - val_acc: 0.8672 - lr: 0.0010\n",
      "Epoch 3/100\n",
      "1250/1250 [==============================] - 13s 11ms/step - loss: 0.2656 - acc: 0.8895 - val_loss: 0.3102 - val_acc: 0.8680 - lr: 0.0010\n",
      "Epoch 4/100\n",
      "1250/1250 [==============================] - 14s 11ms/step - loss: 0.2545 - acc: 0.8945 - val_loss: 0.3142 - val_acc: 0.8679 - lr: 0.0010\n",
      "Epoch 5/100\n",
      "1250/1250 [==============================] - 11s 8ms/step - loss: 0.2472 - acc: 0.8989 - val_loss: 0.3172 - val_acc: 0.8694 - lr: 0.0010\n",
      "Epoch 6/100\n",
      "1250/1250 [==============================] - 12s 10ms/step - loss: 0.2317 - acc: 0.9069 - val_loss: 0.3193 - val_acc: 0.8686 - lr: 2.0000e-04\n",
      "Epoch 7/100\n",
      "1250/1250 [==============================] - 14s 12ms/step - loss: 0.2305 - acc: 0.9079 - val_loss: 0.3202 - val_acc: 0.8688 - lr: 2.0000e-04\n"
     ]
    }
   ],
   "source": [
    "# callbacks\n",
    "\n",
    "#implementing early stopping\n",
    "early_stop = tf.keras.callbacks.EarlyStopping(monitor='val_loss', patience=4,\n",
    "                                              restore_best_weights=True)\n",
    "\n",
    "#reduceOnplateau\n",
    "reduce_lr = tf.keras.callbacks.ReduceLROnPlateau(monitor='val_loss', factor=0.2,\n",
    "                                                  patience=2, min_lr=0.0001)\n",
    "\n",
    "#fitting the model\n",
    "history = model.fit(x_train, y_train,\n",
    "    epochs=100,\n",
    "    batch_size=32,\n",
    "    validation_data = (x_val,y_val),\n",
    "    callbacks = [early_stop,reduce_lr]\n",
    ")"
   ]
  },
  {
   "cell_type": "code",
   "execution_count": 11,
   "metadata": {},
   "outputs": [],
   "source": [
    "#saving the model.\n",
    "model.save(\"movie_review_classifier.h5\")"
   ]
  },
  {
   "cell_type": "markdown",
   "metadata": {},
   "source": [
    "### 4.2 Training history"
   ]
  },
  {
   "cell_type": "code",
   "execution_count": 12,
   "metadata": {},
   "outputs": [
    {
     "data": {
      "image/png": "[encoded data removed]",
      "text/plain": [
       "<Figure size 1152x432 with 1 Axes>"
      ]
     },
     "metadata": {
      "needs_background": "light"
     },
     "output_type": "display_data"
    }
   ],
   "source": [
    "plt.figure(figsize=(16,6))\n",
    "plt.plot(history.history[\"loss\"], label =\"Training Loss\")\n",
    "plt.plot(history.history[\"val_loss\"],label =\"Validation Loss\")\n",
    "plt.legend(loc=\"best\")\n",
    "plt.title(\"Loss vs Epochs\",fontsize = 18)\n",
    "plt.xlabel(\"Epochs\", fontsize = 14)\n",
    "plt.ylabel(\"Metric\", fontsize = 14)\n",
    "plt.grid()"
   ]
  },
  {
   "cell_type": "code",
   "execution_count": 13,
   "metadata": {},
   "outputs": [
    {
     "data": {
      "image/png": "[encoded data removed]",
      "text/plain": [
       "<Figure size 1152x432 with 1 Axes>"
      ]
     },
     "metadata": {
      "needs_background": "light"
     },
     "output_type": "display_data"
    }
   ],
   "source": [
    "plt.figure(figsize=(16,6))\n",
    "plt.plot(history.history[\"acc\"], label =\"Training acc\")\n",
    "plt.plot(history.history[\"val_acc\"], label =\"Validation acc\")\n",
    "plt.legend(loc=\"best\")\n",
    "plt.title(\"Acc vs Epochs\",fontsize = 18)\n",
    "plt.xlabel(\"Epochs\", fontsize = 14)\n",
    "plt.ylabel(\"Metric\", fontsize = 14)\n",
    "plt.grid()"
   ]
  },
  {
   "cell_type": "markdown",
   "metadata": {},
   "source": [
    "<div class=\"alert alert-info\" style=\"background-color:#006a79; color:white; padding:0px 10px; border-radius:5px;\"><h2 style='margin:10px 5px'>5. Model Performance</h2>\n",
    "</div>"
   ]
  },
  {
   "cell_type": "code",
   "execution_count": 14,
   "metadata": {},
   "outputs": [
    {
     "name": "stdout",
     "output_type": "stream",
     "text": [
      "313/313 [==============================] - 1s 3ms/step - loss: 0.3102 - acc: 0.8680\n",
      "Loss: 0.31017005443573 Accuracy: 86.79999709129333 %\n"
     ]
    }
   ],
   "source": [
    "#general performance\n",
    "performance_on_test_data = model.evaluate(x_val,y_val)\n",
    "\n",
    "print(f\"Loss: {performance_on_test_data[0]} Accuracy: {performance_on_test_data[1]*100} %\")"
   ]
  },
  {
   "cell_type": "code",
   "execution_count": 15,
   "metadata": {},
   "outputs": [
    {
     "data": {
      "text/plain": [
       "array([[4359,  621],\n",
       "       [ 699, 4321]])"
      ]
     },
     "execution_count": 15,
     "metadata": {},
     "output_type": "execute_result"
    }
   ],
   "source": [
    "#get the predictions\n",
    "predictions = model.predict(x_val)\n",
    "predictions = [1 if p >=0.5 else 0 for p in predictions]\n",
    "\n",
    "#confusion matrix\n",
    "confusion_matrix(predictions, y_val)"
   ]
  },
  {
   "cell_type": "code",
   "execution_count": 16,
   "metadata": {},
   "outputs": [
    {
     "name": "stdout",
     "output_type": "stream",
     "text": [
      "              precision    recall  f1-score   support\n",
      "\n",
      "           0       0.86      0.88      0.87      4980\n",
      "           1       0.87      0.86      0.87      5020\n",
      "\n",
      "    accuracy                           0.87     10000\n",
      "   macro avg       0.87      0.87      0.87     10000\n",
      "weighted avg       0.87      0.87      0.87     10000\n",
      "\n"
     ]
    }
   ],
   "source": [
    "print(classification_report(predictions,y_val))"
   ]
  },
  {
   "cell_type": "markdown",
   "metadata": {},
   "source": [
    "## visualizing word embeddings"
   ]
  },
  {
   "cell_type": "code",
   "execution_count": 17,
   "metadata": {},
   "outputs": [
    {
     "name": "stdout",
     "output_type": "stream",
     "text": [
      "(10000, 64)\n"
     ]
    }
   ],
   "source": [
    "#getting the embedding layer\n",
    "e = model.layers[0]\n",
    "weights = e.get_weights()[0]\n",
    "print(weights.shape)"
   ]
  },
  {
   "cell_type": "code",
   "execution_count": 18,
   "metadata": {},
   "outputs": [],
   "source": [
    "#generating the files to use in embedding projector\n",
    "out_v = io.open(\"vecs.tsv\",'w',encoding = 'utf-8')\n",
    "out_m = io.open(\"meta.tsv\",'w',encoding = 'utf-8')\n",
    "\n",
    "for word_num in range(1,max_words):\n",
    "    word = word_index_reverse[word_num]\n",
    "    embeddings = weights[word_num]\n",
    "    out_m.write(word+\"\\n\")\n",
    "    out_v.write('\\t'.join([str(x) for x in embeddings])+\"\\n\")\n",
    "    \n",
    "out_v.close()\n",
    "out_m.close()"
   ]
  },
  {
   "cell_type": "code",
   "execution_count": null,
   "metadata": {},
   "outputs": [],
   "source": []
  }
 ],
 "metadata": {
  "kernelspec": {
   "display_name": "Python 3",
   "language": "python",
   "name": "python3"
  },
  "language_info": {
   "codemirror_mode": {
    "name": "ipython",
    "version": 3
   },
   "file_extension": ".py",
   "mimetype": "text/x-python",
   "name": "python",
   "nbconvert_exporter": "python",
   "pygments_lexer": "ipython3",
   "version": "3.8.10"
  }
 },
 "nbformat": 4,
 "nbformat_minor": 4
}
