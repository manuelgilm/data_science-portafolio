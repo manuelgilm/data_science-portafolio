{
 "cells": [
  {
   "cell_type": "markdown",
   "metadata": {},
   "source": [
    "# TEST NOTEBOOK\n",
    "\n",
    "This notebook is only meant to test code quickly."
   ]
  },
  {
   "cell_type": "code",
   "execution_count": 1,
   "metadata": {},
   "outputs": [],
   "source": [
    "import pkgutil\n",
    "from typing import Any\n",
    "from typing import Dict\n",
    "from typing import List\n",
    "from typing import Tuple\n",
    "import pandas as pd\n",
    "from ucimlrepo import fetch_ucirepo\n"
   ]
  },
  {
   "cell_type": "code",
   "execution_count": 2,
   "metadata": {},
   "outputs": [],
   "source": [
    "def get_wine_dataset_uci() -> Tuple[pd.DataFrame, List[str]]:\n",
    "    \"\"\"\n",
    "    Get wine dataset from UCI.\n",
    "\n",
    "    :return: wine dataset and feature names.\n",
    "    \"\"\"\n",
    "    wine_quality = fetch_ucirepo(id=186)\n",
    "    categorical_features = wine_quality.variables[(wine_quality.variables[\"type\"] == \"Categorical\") & (wine_quality.variables[\"role\"] ==\"Feature\")][\"name\"].values.tolist()\n",
    "    numerical_features = wine_quality.variables[(wine_quality.variables[\"type\"] == \"Continuous\") & (wine_quality.variables[\"role\"] ==\"Feature\")][\"name\"].values.tolist()\n",
    "    target = wine_quality.variables[(wine_quality.variables[\"role\"] == \"Target\")][\"name\"].values[0]    \n",
    "    metadata = {\n",
    "        \"categorical_features\": categorical_features,\n",
    "        \"numerical_features\": numerical_features,\n",
    "        \"target\": target\n",
    "    }\n",
    "\n",
    "    df = wine_quality.data.features\n",
    "    df[target] = wine_quality.data.targets\n",
    "    return df, metadata\n"
   ]
  },
  {
   "cell_type": "code",
   "execution_count": 4,
   "metadata": {},
   "outputs": [
    {
     "name": "stderr",
     "output_type": "stream",
     "text": [
      "C:\\Users\\manue\\AppData\\Local\\Temp\\ipykernel_26520\\3360508130.py:10: SettingWithCopyWarning: \n",
      "A value is trying to be set on a copy of a slice from a DataFrame.\n",
      "Try using .loc[row_indexer,col_indexer] = value instead\n",
      "\n",
      "See the caveats in the documentation: https://pandas.pydata.org/pandas-docs/stable/user_guide/indexing.html#returning-a-view-versus-a-copy\n",
      "  df[\"quality\"] = wine_quality.data.targets\n"
     ]
    }
   ],
   "source": [
    "df, feature_names = get_wine_dataset_uci()"
   ]
  },
  {
   "cell_type": "code",
   "execution_count": 5,
   "metadata": {},
   "outputs": [],
   "source": [
    "wine_quality = fetch_ucirepo(id=186)\n",
    "df = wine_quality.data.features\n",
    "feature_names = df.columns.tolist()"
   ]
  },
  {
   "cell_type": "code",
   "execution_count": 13,
   "metadata": {},
   "outputs": [
    {
     "data": {
      "text/html": [
       "<div>\n",
       "<style scoped>\n",
       "    .dataframe tbody tr th:only-of-type {\n",
       "        vertical-align: middle;\n",
       "    }\n",
       "\n",
       "    .dataframe tbody tr th {\n",
       "        vertical-align: top;\n",
       "    }\n",
       "\n",
       "    .dataframe thead th {\n",
       "        text-align: right;\n",
       "    }\n",
       "</style>\n",
       "<table border=\"1\" class=\"dataframe\">\n",
       "  <thead>\n",
       "    <tr style=\"text-align: right;\">\n",
       "      <th></th>\n",
       "      <th>name</th>\n",
       "      <th>role</th>\n",
       "      <th>type</th>\n",
       "      <th>demographic</th>\n",
       "      <th>description</th>\n",
       "      <th>units</th>\n",
       "      <th>missing_values</th>\n",
       "    </tr>\n",
       "  </thead>\n",
       "  <tbody>\n",
       "    <tr>\n",
       "      <th>0</th>\n",
       "      <td>fixed_acidity</td>\n",
       "      <td>Feature</td>\n",
       "      <td>Continuous</td>\n",
       "      <td>None</td>\n",
       "      <td>None</td>\n",
       "      <td>None</td>\n",
       "      <td>no</td>\n",
       "    </tr>\n",
       "    <tr>\n",
       "      <th>1</th>\n",
       "      <td>volatile_acidity</td>\n",
       "      <td>Feature</td>\n",
       "      <td>Continuous</td>\n",
       "      <td>None</td>\n",
       "      <td>None</td>\n",
       "      <td>None</td>\n",
       "      <td>no</td>\n",
       "    </tr>\n",
       "    <tr>\n",
       "      <th>2</th>\n",
       "      <td>citric_acid</td>\n",
       "      <td>Feature</td>\n",
       "      <td>Continuous</td>\n",
       "      <td>None</td>\n",
       "      <td>None</td>\n",
       "      <td>None</td>\n",
       "      <td>no</td>\n",
       "    </tr>\n",
       "    <tr>\n",
       "      <th>3</th>\n",
       "      <td>residual_sugar</td>\n",
       "      <td>Feature</td>\n",
       "      <td>Continuous</td>\n",
       "      <td>None</td>\n",
       "      <td>None</td>\n",
       "      <td>None</td>\n",
       "      <td>no</td>\n",
       "    </tr>\n",
       "    <tr>\n",
       "      <th>4</th>\n",
       "      <td>chlorides</td>\n",
       "      <td>Feature</td>\n",
       "      <td>Continuous</td>\n",
       "      <td>None</td>\n",
       "      <td>None</td>\n",
       "      <td>None</td>\n",
       "      <td>no</td>\n",
       "    </tr>\n",
       "    <tr>\n",
       "      <th>5</th>\n",
       "      <td>free_sulfur_dioxide</td>\n",
       "      <td>Feature</td>\n",
       "      <td>Continuous</td>\n",
       "      <td>None</td>\n",
       "      <td>None</td>\n",
       "      <td>None</td>\n",
       "      <td>no</td>\n",
       "    </tr>\n",
       "    <tr>\n",
       "      <th>6</th>\n",
       "      <td>total_sulfur_dioxide</td>\n",
       "      <td>Feature</td>\n",
       "      <td>Continuous</td>\n",
       "      <td>None</td>\n",
       "      <td>None</td>\n",
       "      <td>None</td>\n",
       "      <td>no</td>\n",
       "    </tr>\n",
       "    <tr>\n",
       "      <th>7</th>\n",
       "      <td>density</td>\n",
       "      <td>Feature</td>\n",
       "      <td>Continuous</td>\n",
       "      <td>None</td>\n",
       "      <td>None</td>\n",
       "      <td>None</td>\n",
       "      <td>no</td>\n",
       "    </tr>\n",
       "    <tr>\n",
       "      <th>8</th>\n",
       "      <td>pH</td>\n",
       "      <td>Feature</td>\n",
       "      <td>Continuous</td>\n",
       "      <td>None</td>\n",
       "      <td>None</td>\n",
       "      <td>None</td>\n",
       "      <td>no</td>\n",
       "    </tr>\n",
       "    <tr>\n",
       "      <th>9</th>\n",
       "      <td>sulphates</td>\n",
       "      <td>Feature</td>\n",
       "      <td>Continuous</td>\n",
       "      <td>None</td>\n",
       "      <td>None</td>\n",
       "      <td>None</td>\n",
       "      <td>no</td>\n",
       "    </tr>\n",
       "    <tr>\n",
       "      <th>10</th>\n",
       "      <td>alcohol</td>\n",
       "      <td>Feature</td>\n",
       "      <td>Continuous</td>\n",
       "      <td>None</td>\n",
       "      <td>None</td>\n",
       "      <td>None</td>\n",
       "      <td>no</td>\n",
       "    </tr>\n",
       "    <tr>\n",
       "      <th>11</th>\n",
       "      <td>quality</td>\n",
       "      <td>Target</td>\n",
       "      <td>Integer</td>\n",
       "      <td>None</td>\n",
       "      <td>score between 0 and 10</td>\n",
       "      <td>None</td>\n",
       "      <td>no</td>\n",
       "    </tr>\n",
       "    <tr>\n",
       "      <th>12</th>\n",
       "      <td>color</td>\n",
       "      <td>Other</td>\n",
       "      <td>Categorical</td>\n",
       "      <td>None</td>\n",
       "      <td>red or white</td>\n",
       "      <td>None</td>\n",
       "      <td>no</td>\n",
       "    </tr>\n",
       "  </tbody>\n",
       "</table>\n",
       "</div>"
      ],
      "text/plain": [
       "                    name     role         type demographic  \\\n",
       "0          fixed_acidity  Feature   Continuous        None   \n",
       "1       volatile_acidity  Feature   Continuous        None   \n",
       "2            citric_acid  Feature   Continuous        None   \n",
       "3         residual_sugar  Feature   Continuous        None   \n",
       "4              chlorides  Feature   Continuous        None   \n",
       "5    free_sulfur_dioxide  Feature   Continuous        None   \n",
       "6   total_sulfur_dioxide  Feature   Continuous        None   \n",
       "7                density  Feature   Continuous        None   \n",
       "8                     pH  Feature   Continuous        None   \n",
       "9              sulphates  Feature   Continuous        None   \n",
       "10               alcohol  Feature   Continuous        None   \n",
       "11               quality   Target      Integer        None   \n",
       "12                 color    Other  Categorical        None   \n",
       "\n",
       "               description units missing_values  \n",
       "0                     None  None             no  \n",
       "1                     None  None             no  \n",
       "2                     None  None             no  \n",
       "3                     None  None             no  \n",
       "4                     None  None             no  \n",
       "5                     None  None             no  \n",
       "6                     None  None             no  \n",
       "7                     None  None             no  \n",
       "8                     None  None             no  \n",
       "9                     None  None             no  \n",
       "10                    None  None             no  \n",
       "11  score between 0 and 10  None             no  \n",
       "12            red or white  None             no  "
      ]
     },
     "execution_count": 13,
     "metadata": {},
     "output_type": "execute_result"
    }
   ],
   "source": [
    "wine_quality.variables"
   ]
  },
  {
   "cell_type": "code",
   "execution_count": 23,
   "metadata": {},
   "outputs": [],
   "source": [
    "categorical_features = wine_quality.variables[(wine_quality.variables[\"type\"] == \"Categorical\") & (wine_quality.variables[\"role\"] ==\"Feature\")][\"name\"].values.tolist()\n",
    "numerical_features = wine_quality.variables[(wine_quality.variables[\"type\"] == \"Continuous\") & (wine_quality.variables[\"role\"] ==\"Feature\")][\"name\"].values.tolist()\n",
    "target = wine_quality.variables[(wine_quality.variables[\"role\"] == \"Target\")][\"name\"].values[0]"
   ]
  },
  {
   "cell_type": "code",
   "execution_count": 27,
   "metadata": {},
   "outputs": [
    {
     "data": {
      "text/plain": [
       "quality\n",
       "6          2836\n",
       "5          2138\n",
       "7          1079\n",
       "4           216\n",
       "8           193\n",
       "3            30\n",
       "9             5\n",
       "Name: count, dtype: int64"
      ]
     },
     "execution_count": 27,
     "metadata": {},
     "output_type": "execute_result"
    }
   ],
   "source": [
    "wine_quality.data.targets.value_counts()    "
   ]
  },
  {
   "cell_type": "code",
   "execution_count": null,
   "metadata": {},
   "outputs": [],
   "source": [
    "def get_run_id(run_name: str, experiment_name:str) -> str:\n",
    "    \"\"\"\n",
    "    Get the run ID of a run.\n",
    "\n",
    "    :param run_name: name of the run.\n",
    "    :param experiment_id: ID of the experiment.\n",
    "    :return: run ID.\n",
    "    \"\"\"\n",
    "    experiment = mlflow.get_experiment_by_name(experiment_name)\n",
    "    runs = mlflow.search_runs(experiment_ids=[experiment.experiment_id], filter_string=f\"mlflow.tags.runName='{run_name}'\")\n",
    "    run_id = runs[runs[\"tags.mlflow.runName\"] == run_name][\"run_id\"].values[0]\n",
    "    return run_id"
   ]
  },
  {
   "cell_type": "code",
   "execution_count": 4,
   "metadata": {},
   "outputs": [],
   "source": [
    "import mlflow \n",
    "from wine_quality_v1.training.mlflow_utils import get_or_create_experiment"
   ]
  },
  {
   "cell_type": "code",
   "execution_count": 23,
   "metadata": {},
   "outputs": [],
   "source": [
    "experiment = get_or_create_experiment(\"wine_quality_v1\", tags={\"task\": \"classification\"})"
   ]
  },
  {
   "cell_type": "code",
   "execution_count": 33,
   "metadata": {},
   "outputs": [],
   "source": [
    "runs = mlflow.search_runs(\n",
    "            experiment_ids=[experiment.experiment_id],\n",
    "            max_results=1,\n",
    "            filter_string=f\"tags.mlflow.runName LIKE 'run-opt-%'\",\n",
    "            output_format=\"list\",\n",
    "        )[0]"
   ]
  },
  {
   "cell_type": "code",
   "execution_count": 34,
   "metadata": {},
   "outputs": [
    {
     "data": {
      "text/plain": [
       "'run-opt-2024-05-01 09:19:13.082820'"
      ]
     },
     "execution_count": 34,
     "metadata": {},
     "output_type": "execute_result"
    }
   ],
   "source": [
    "runs.info.run_name"
   ]
  },
  {
   "cell_type": "code",
   "execution_count": null,
   "metadata": {},
   "outputs": [],
   "source": []
  }
 ],
 "metadata": {
  "kernelspec": {
   "display_name": ".venv",
   "language": "python",
   "name": "python3"
  },
  "language_info": {
   "codemirror_mode": {
    "name": "ipython",
    "version": 3
   },
   "file_extension": ".py",
   "mimetype": "text/x-python",
   "name": "python",
   "nbconvert_exporter": "python",
   "pygments_lexer": "ipython3",
   "version": "3.11.8"
  }
 },
 "nbformat": 4,
 "nbformat_minor": 2
}
