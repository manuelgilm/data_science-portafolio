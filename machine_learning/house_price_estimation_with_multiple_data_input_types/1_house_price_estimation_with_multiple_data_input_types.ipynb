{
 "cells": [
  {
   "cell_type": "markdown",
   "metadata": {},
   "source": [
    "# House price estimation with multiple inputs part 1\n",
    "\n",
    "## Table of contents\n",
    "\n",
    "+ Understanding the data\n",
    "+ Building the model.\n",
    "+ Training process.\n",
    "+ Performance\n",
    "\n",
    "## Understanding the data.\n",
    "\n",
    "The data set I'll use for this project can be found in the next [link](https://github.com/emanhamed/Houses-dataset), this data set contains both visual and textual information for house prices estimation. Each house in the data set is represented by four images for bedroom, bathroom, kitchen and frontal image of the house. \n",
    "\n",
    "The data set also contains a text file with textual metadata, each row represents the number of houses in order. The numbers represent the number of bedrooms, number of bathrooms, area of the house, zip code and the price."
   ]
  },
  {
   "cell_type": "code",
   "execution_count": 1,
   "metadata": {},
   "outputs": [],
   "source": [
    "import tensorflow as tf\n",
    "from tensorflow.keras.layers import Dense, Input\n",
    "from tensorflow.keras.utils import plot_model\n",
    "from tensorflow.keras.models import Model\n",
    "\n",
    "import matplotlib.pyplot as plt\n",
    "import pandas as pd\n",
    "import numpy as np\n",
    "\n",
    "from sklearn.model_selection import train_test_split\n",
    "from sklearn.preprocessing import StandardScaler, MinMaxScaler"
   ]
  },
  {
   "cell_type": "code",
   "execution_count": 2,
   "metadata": {},
   "outputs": [
    {
     "data": {
      "text/html": [
       "<div>\n",
       "<style scoped>\n",
       "    .dataframe tbody tr th:only-of-type {\n",
       "        vertical-align: middle;\n",
       "    }\n",
       "\n",
       "    .dataframe tbody tr th {\n",
       "        vertical-align: top;\n",
       "    }\n",
       "\n",
       "    .dataframe thead th {\n",
       "        text-align: right;\n",
       "    }\n",
       "</style>\n",
       "<table border=\"1\" class=\"dataframe\">\n",
       "  <thead>\n",
       "    <tr style=\"text-align: right;\">\n",
       "      <th></th>\n",
       "      <th>bedrooms</th>\n",
       "      <th>bathrooms</th>\n",
       "      <th>area</th>\n",
       "      <th>zipcode</th>\n",
       "      <th>price</th>\n",
       "    </tr>\n",
       "  </thead>\n",
       "  <tbody>\n",
       "    <tr>\n",
       "      <th>0</th>\n",
       "      <td>4</td>\n",
       "      <td>4.0</td>\n",
       "      <td>4053</td>\n",
       "      <td>85255</td>\n",
       "      <td>869500</td>\n",
       "    </tr>\n",
       "    <tr>\n",
       "      <th>1</th>\n",
       "      <td>4</td>\n",
       "      <td>3.0</td>\n",
       "      <td>3343</td>\n",
       "      <td>36372</td>\n",
       "      <td>865200</td>\n",
       "    </tr>\n",
       "    <tr>\n",
       "      <th>2</th>\n",
       "      <td>3</td>\n",
       "      <td>4.0</td>\n",
       "      <td>3923</td>\n",
       "      <td>85266</td>\n",
       "      <td>889000</td>\n",
       "    </tr>\n",
       "    <tr>\n",
       "      <th>3</th>\n",
       "      <td>5</td>\n",
       "      <td>5.0</td>\n",
       "      <td>4022</td>\n",
       "      <td>85262</td>\n",
       "      <td>910000</td>\n",
       "    </tr>\n",
       "    <tr>\n",
       "      <th>4</th>\n",
       "      <td>3</td>\n",
       "      <td>4.0</td>\n",
       "      <td>4116</td>\n",
       "      <td>85266</td>\n",
       "      <td>971226</td>\n",
       "    </tr>\n",
       "  </tbody>\n",
       "</table>\n",
       "</div>"
      ],
      "text/plain": [
       "   bedrooms  bathrooms  area  zipcode   price\n",
       "0         4        4.0  4053    85255  869500\n",
       "1         4        3.0  3343    36372  865200\n",
       "2         3        4.0  3923    85266  889000\n",
       "3         5        5.0  4022    85262  910000\n",
       "4         3        4.0  4116    85266  971226"
      ]
     },
     "execution_count": 2,
     "metadata": {},
     "output_type": "execute_result"
    }
   ],
   "source": [
    "def read_textual_data(path, names):\n",
    "    return pd.read_csv(path,header = None,sep = \" \", names = names)\n",
    "\n",
    "df = read_textual_data(\"../Houses-dataset/Houses-Dataset/HousesInfo.txt\",\n",
    "                       [\"bedrooms\",\"bathrooms\",\"area\",\"zipcode\",\"price\"])\n",
    "df.head()"
   ]
  },
  {
   "cell_type": "markdown",
   "metadata": {},
   "source": [
    "The data set is formed of five variables, the target value is the house's price and the rest of the variables are features that I will use to predict the target value. In the data set we see one categorical variable which is the zip code. The rest of the features are numerical. Let's see the distribution of the zip code variable."
   ]
  },
  {
   "cell_type": "code",
   "execution_count": 3,
   "metadata": {},
   "outputs": [
    {
     "data": {
      "text/html": [
       "<div>\n",
       "<style scoped>\n",
       "    .dataframe tbody tr th:only-of-type {\n",
       "        vertical-align: middle;\n",
       "    }\n",
       "\n",
       "    .dataframe tbody tr th {\n",
       "        vertical-align: top;\n",
       "    }\n",
       "\n",
       "    .dataframe thead th {\n",
       "        text-align: right;\n",
       "    }\n",
       "</style>\n",
       "<table border=\"1\" class=\"dataframe\">\n",
       "  <thead>\n",
       "    <tr style=\"text-align: right;\">\n",
       "      <th></th>\n",
       "      <th>bedrooms</th>\n",
       "      <th>bathrooms</th>\n",
       "      <th>area</th>\n",
       "      <th>zipcode</th>\n",
       "      <th>price</th>\n",
       "    </tr>\n",
       "  </thead>\n",
       "  <tbody>\n",
       "    <tr>\n",
       "      <th>count</th>\n",
       "      <td>535.000000</td>\n",
       "      <td>535.000000</td>\n",
       "      <td>535.000000</td>\n",
       "      <td>535.000000</td>\n",
       "      <td>5.350000e+02</td>\n",
       "    </tr>\n",
       "    <tr>\n",
       "      <th>mean</th>\n",
       "      <td>3.377570</td>\n",
       "      <td>2.664953</td>\n",
       "      <td>2364.904673</td>\n",
       "      <td>90937.768224</td>\n",
       "      <td>5.893628e+05</td>\n",
       "    </tr>\n",
       "    <tr>\n",
       "      <th>std</th>\n",
       "      <td>1.160952</td>\n",
       "      <td>0.995077</td>\n",
       "      <td>1224.556982</td>\n",
       "      <td>7141.857452</td>\n",
       "      <td>5.090261e+05</td>\n",
       "    </tr>\n",
       "    <tr>\n",
       "      <th>min</th>\n",
       "      <td>1.000000</td>\n",
       "      <td>1.000000</td>\n",
       "      <td>701.000000</td>\n",
       "      <td>36372.000000</td>\n",
       "      <td>2.200000e+04</td>\n",
       "    </tr>\n",
       "    <tr>\n",
       "      <th>25%</th>\n",
       "      <td>3.000000</td>\n",
       "      <td>2.000000</td>\n",
       "      <td>1440.000000</td>\n",
       "      <td>92276.000000</td>\n",
       "      <td>2.492000e+05</td>\n",
       "    </tr>\n",
       "    <tr>\n",
       "      <th>50%</th>\n",
       "      <td>3.000000</td>\n",
       "      <td>2.500000</td>\n",
       "      <td>2078.000000</td>\n",
       "      <td>92880.000000</td>\n",
       "      <td>5.290000e+05</td>\n",
       "    </tr>\n",
       "    <tr>\n",
       "      <th>75%</th>\n",
       "      <td>4.000000</td>\n",
       "      <td>3.000000</td>\n",
       "      <td>3067.500000</td>\n",
       "      <td>93510.000000</td>\n",
       "      <td>7.285000e+05</td>\n",
       "    </tr>\n",
       "    <tr>\n",
       "      <th>max</th>\n",
       "      <td>10.000000</td>\n",
       "      <td>7.000000</td>\n",
       "      <td>9583.000000</td>\n",
       "      <td>98021.000000</td>\n",
       "      <td>5.858000e+06</td>\n",
       "    </tr>\n",
       "  </tbody>\n",
       "</table>\n",
       "</div>"
      ],
      "text/plain": [
       "         bedrooms   bathrooms         area       zipcode         price\n",
       "count  535.000000  535.000000   535.000000    535.000000  5.350000e+02\n",
       "mean     3.377570    2.664953  2364.904673  90937.768224  5.893628e+05\n",
       "std      1.160952    0.995077  1224.556982   7141.857452  5.090261e+05\n",
       "min      1.000000    1.000000   701.000000  36372.000000  2.200000e+04\n",
       "25%      3.000000    2.000000  1440.000000  92276.000000  2.492000e+05\n",
       "50%      3.000000    2.500000  2078.000000  92880.000000  5.290000e+05\n",
       "75%      4.000000    3.000000  3067.500000  93510.000000  7.285000e+05\n",
       "max     10.000000    7.000000  9583.000000  98021.000000  5.858000e+06"
      ]
     },
     "execution_count": 3,
     "metadata": {},
     "output_type": "execute_result"
    }
   ],
   "source": [
    "df.describe()"
   ]
  },
  {
   "cell_type": "code",
   "execution_count": 4,
   "metadata": {},
   "outputs": [
    {
     "data": {
      "image/png": "[encoded data removed]",
      "text/plain": [
       "<Figure size 1152x288 with 2 Axes>"
      ]
     },
     "metadata": {
      "needs_background": "light"
     },
     "output_type": "display_data"
    }
   ],
   "source": [
    "# using the variable axs for multiple Axes\n",
    "labels = [\"bedrooms\",\"bathrooms\"]\n",
    "fig, axs = plt.subplots(1,2 ,figsize = (16,4))\n",
    "for n,label in enumerate(labels):\n",
    "    x = df[label].value_counts().index\n",
    "    height = df[label].value_counts().values\n",
    "    axs[n].bar(x = x, height = height,)\n",
    "    axs[n].set_xlabel(label, fontsize=14)\n",
    "    axs[n].set_ylabel(\"Houses\", fontsize = 14)"
   ]
  },
  {
   "cell_type": "code",
   "execution_count": 5,
   "metadata": {},
   "outputs": [
    {
     "data": {
      "text/plain": [
       "Text(0, 0.5, 'Houses')"
      ]
     },
     "execution_count": 5,
     "metadata": {},
     "output_type": "execute_result"
    },
    {
     "data": {
      "image/png": "[encoded data removed]",
      "text/plain": [
       "<Figure size 1152x432 with 1 Axes>"
      ]
     },
     "metadata": {
      "needs_background": "light"
     },
     "output_type": "display_data"
    }
   ],
   "source": [
    "plt.figure(figsize=(16,6))\n",
    "x = df[\"zipcode\"].value_counts(sort=False).index\n",
    "height = df[\"zipcode\"].value_counts(sort = False).values\n",
    "plt.bar(range(len(x)), height = height)\n",
    "plt.xticks(range(len(x)),x);\n",
    "plt.xticks(rotation=90);\n",
    "plt.xlabel(\"zipcode\", fontsize = 14)\n",
    "plt.ylabel(\"Houses\", fontsize = 14)"
   ]
  },
  {
   "cell_type": "markdown",
   "metadata": {},
   "source": [
    "House distribution by zip code is highly unbalanced, so we need to pay special attention about how to feed any model with this feature since we have sometimes one or two houses by zip code. I will remove all the zip code rows having less than 25 houses. Now let's see what the distribution looks like with the changes in the zip code column."
   ]
  },
  {
   "cell_type": "code",
   "execution_count": 6,
   "metadata": {},
   "outputs": [],
   "source": [
    "zipcode_rm = df[\"zipcode\"].value_counts()\n",
    "for idx, val in zip(df[\"zipcode\"].value_counts().keys().tolist(), df[\"zipcode\"].value_counts().values.tolist()):\n",
    "    if val <= 13:\n",
    "        df.drop(df[df[\"zipcode\"]==idx].index, inplace = True)"
   ]
  },
  {
   "cell_type": "code",
   "execution_count": 7,
   "metadata": {},
   "outputs": [
    {
     "data": {
      "text/plain": [
       "Text(0, 0.5, 'Houses')"
      ]
     },
     "execution_count": 7,
     "metadata": {},
     "output_type": "execute_result"
    },
    {
     "data": {
      "image/png": "[encoded data removed]",
      "text/plain": [
       "<Figure size 1152x432 with 1 Axes>"
      ]
     },
     "metadata": {
      "needs_background": "light"
     },
     "output_type": "display_data"
    }
   ],
   "source": [
    "plt.figure(figsize=(16,6))\n",
    "x = df[\"zipcode\"].value_counts(sort=False).index\n",
    "height = df[\"zipcode\"].value_counts(sort = False).values\n",
    "plt.bar(range(len(x)), height = height)\n",
    "plt.xticks(range(len(x)),x);\n",
    "plt.xticks(rotation=90);\n",
    "plt.xlabel(\"zipcode\", fontsize = 14)\n",
    "plt.ylabel(\"Houses\", fontsize = 14)"
   ]
  },
  {
   "cell_type": "markdown",
   "metadata": {},
   "source": [
    "Now we still have some problems with the class balance, but it is less than before. The next step is to convert all the categorical data in indicator variables, I'll do this using the get_dummies() method from pandas."
   ]
  },
  {
   "cell_type": "code",
   "execution_count": 8,
   "metadata": {},
   "outputs": [
    {
     "data": {
      "text/html": [
       "<div>\n",
       "<style scoped>\n",
       "    .dataframe tbody tr th:only-of-type {\n",
       "        vertical-align: middle;\n",
       "    }\n",
       "\n",
       "    .dataframe tbody tr th {\n",
       "        vertical-align: top;\n",
       "    }\n",
       "\n",
       "    .dataframe thead th {\n",
       "        text-align: right;\n",
       "    }\n",
       "</style>\n",
       "<table border=\"1\" class=\"dataframe\">\n",
       "  <thead>\n",
       "    <tr style=\"text-align: right;\">\n",
       "      <th></th>\n",
       "      <th>z_91901</th>\n",
       "      <th>z_92276</th>\n",
       "      <th>z_92677</th>\n",
       "      <th>z_92880</th>\n",
       "      <th>z_93446</th>\n",
       "      <th>z_93510</th>\n",
       "      <th>z_94501</th>\n",
       "      <th>z_94531</th>\n",
       "    </tr>\n",
       "  </thead>\n",
       "  <tbody>\n",
       "    <tr>\n",
       "      <th>30</th>\n",
       "      <td>0</td>\n",
       "      <td>0</td>\n",
       "      <td>0</td>\n",
       "      <td>0</td>\n",
       "      <td>1</td>\n",
       "      <td>0</td>\n",
       "      <td>0</td>\n",
       "      <td>0</td>\n",
       "    </tr>\n",
       "    <tr>\n",
       "      <th>32</th>\n",
       "      <td>0</td>\n",
       "      <td>0</td>\n",
       "      <td>0</td>\n",
       "      <td>0</td>\n",
       "      <td>1</td>\n",
       "      <td>0</td>\n",
       "      <td>0</td>\n",
       "      <td>0</td>\n",
       "    </tr>\n",
       "    <tr>\n",
       "      <th>39</th>\n",
       "      <td>0</td>\n",
       "      <td>0</td>\n",
       "      <td>0</td>\n",
       "      <td>0</td>\n",
       "      <td>1</td>\n",
       "      <td>0</td>\n",
       "      <td>0</td>\n",
       "      <td>0</td>\n",
       "    </tr>\n",
       "    <tr>\n",
       "      <th>80</th>\n",
       "      <td>1</td>\n",
       "      <td>0</td>\n",
       "      <td>0</td>\n",
       "      <td>0</td>\n",
       "      <td>0</td>\n",
       "      <td>0</td>\n",
       "      <td>0</td>\n",
       "      <td>0</td>\n",
       "    </tr>\n",
       "    <tr>\n",
       "      <th>81</th>\n",
       "      <td>1</td>\n",
       "      <td>0</td>\n",
       "      <td>0</td>\n",
       "      <td>0</td>\n",
       "      <td>0</td>\n",
       "      <td>0</td>\n",
       "      <td>0</td>\n",
       "      <td>0</td>\n",
       "    </tr>\n",
       "  </tbody>\n",
       "</table>\n",
       "</div>"
      ],
      "text/plain": [
       "    z_91901  z_92276  z_92677  z_92880  z_93446  z_93510  z_94501  z_94531\n",
       "30        0        0        0        0        1        0        0        0\n",
       "32        0        0        0        0        1        0        0        0\n",
       "39        0        0        0        0        1        0        0        0\n",
       "80        1        0        0        0        0        0        0        0\n",
       "81        1        0        0        0        0        0        0        0"
      ]
     },
     "execution_count": 8,
     "metadata": {},
     "output_type": "execute_result"
    }
   ],
   "source": [
    "pd.get_dummies(df.zipcode, prefix = \"z\").head()"
   ]
  },
  {
   "cell_type": "code",
   "execution_count": 9,
   "metadata": {},
   "outputs": [],
   "source": [
    "def processing_data(df, test_size):\n",
    "    # categorical variable\n",
    "    df_zipcode = pd.get_dummies(df.zipcode, prefix = \"z\")\n",
    "\n",
    "    df_num = df[[\"bedrooms\",\"bathrooms\",\"area\",\"price\"]]\n",
    "    \n",
    "    #Mixing the data\n",
    "    processed_data = pd.concat([df_zipcode, df_num] , axis = 1)\n",
    "    \n",
    "    #splitting the data\n",
    "    train, test = train_test_split(processed_data, test_size = test_size, random_state = 43)\n",
    "    \n",
    "    #training data\n",
    "    x_train = train.drop([\"price\"], axis = 1)\n",
    "    y_train = train[\"price\"]\n",
    "    \n",
    "    #testing data\n",
    "    x_test = test.drop([\"price\"], axis = 1)\n",
    "    y_test = test[\"price\"]\n",
    "    \n",
    "    #min max scaler\n",
    "    data_scaler = MinMaxScaler()\n",
    "    \n",
    "    #scaling the train data\n",
    "    x_train_scaled = data_scaler.fit_transform(x_train)\n",
    "    y_train_scaled = y_train/np.max(y_train)\n",
    "    \n",
    "    #scaling the test data\n",
    "    x_test_scaled = data_scaler.transform(x_test)    \n",
    "    y_test_scaled = y_test/np.max(y_train)\n",
    "        \n",
    "    return {\n",
    "        \"x_train\":x_train,\n",
    "        \"y_train\":y_train,\n",
    "        \"x_test\":x_test,\n",
    "        \"y_test\":y_test,\n",
    "        \"x_train_scaled\":x_train_scaled,\n",
    "        \"y_train_scaled\":y_train_scaled,\n",
    "        \"x_test_scaled\":x_test_scaled,\n",
    "        \"y_test_scaled\":y_test_scaled,\n",
    "        \"data_scaler\":data_scaler,\n",
    "    }"
   ]
  },
  {
   "cell_type": "markdown",
   "metadata": {},
   "source": [
    "### Splitting the data\n"
   ]
  },
  {
   "cell_type": "code",
   "execution_count": 10,
   "metadata": {},
   "outputs": [],
   "source": [
    "processed_data = processing_data(df, 0.3)"
   ]
  },
  {
   "cell_type": "markdown",
   "metadata": {},
   "source": [
    "## Building the model\n",
    "\n",
    "In this case we are dealing with a regression problem, there are many methods to deal with this kind of problem, but for this time I will use tensorflow and keras to build a regression model. Keras offers the opportunity to create neural network architectures easily and faster. The functional API allows more flexibility to build our models."
   ]
  },
  {
   "cell_type": "code",
   "execution_count": 11,
   "metadata": {},
   "outputs": [],
   "source": [
    "input_layer = Input(shape=(processed_data[\"x_train_scaled\"].shape[1]))\n",
    "\n",
    "# dense layers\n",
    "first_dense = Dense(16, activation= \"relu\")(input_layer)\n",
    "second_dense = Dense(8, activation = \"relu\")(first_dense)\n",
    "\n",
    "#last layer (regression output)\n",
    "last_layer = Dense(1, activation =\"linear\")(second_dense)\n",
    "\n",
    "model = Model(inputs = input_layer, outputs = last_layer)"
   ]
  },
  {
   "cell_type": "markdown",
   "metadata": {},
   "source": [
    "In the input layer I am defining the shape of the training data set,  the first dense and second dense layers which have 16 and 8 neurons respectively using the \"relu\" activation function. The last layer since will be the output layer needs only one output and should use the \"linear\" activation function since it is a regression problem. Finally, I built the model defining the inputs and outputs model. The architecture is shown below."
   ]
  },
  {
   "cell_type": "code",
   "execution_count": 12,
   "metadata": {},
   "outputs": [
    {
     "data": {
      "image/png": "[encoded data removed]",
      "text/plain": [
       "<IPython.core.display.Image object>"
      ]
     },
     "execution_count": 12,
     "metadata": {},
     "output_type": "execute_result"
    }
   ],
   "source": [
    "plot_model(model, show_layer_names=True, show_shapes=True)"
   ]
  },
  {
   "cell_type": "markdown",
   "metadata": {},
   "source": [
    "### Training the model\n",
    "\n",
    "To train the model I need to use the compile method to define the loss function and the metric to be used."
   ]
  },
  {
   "cell_type": "code",
   "execution_count": 13,
   "metadata": {},
   "outputs": [
    {
     "name": "stdout",
     "output_type": "stream",
     "text": [
      "Epoch 1/200\n",
      "17/17 [==============================] - 0s 9ms/step - loss: 0.1403 - val_loss: 0.1126\n",
      "Epoch 2/200\n",
      "17/17 [==============================] - 0s 2ms/step - loss: 0.0922 - val_loss: 0.0703\n",
      "Epoch 3/200\n",
      "17/17 [==============================] - 0s 3ms/step - loss: 0.0585 - val_loss: 0.0417\n",
      "Epoch 4/200\n",
      "17/17 [==============================] - 0s 2ms/step - loss: 0.0400 - val_loss: 0.0325\n",
      "Epoch 5/200\n",
      "17/17 [==============================] - 0s 3ms/step - loss: 0.0338 - val_loss: 0.0268\n",
      "Epoch 6/200\n",
      "17/17 [==============================] - 0s 2ms/step - loss: 0.0298 - val_loss: 0.0243\n",
      "Epoch 7/200\n",
      "17/17 [==============================] - 0s 2ms/step - loss: 0.0285 - val_loss: 0.0230\n",
      "Epoch 8/200\n",
      "17/17 [==============================] - 0s 2ms/step - loss: 0.0276 - val_loss: 0.0224\n",
      "Epoch 9/200\n",
      "17/17 [==============================] - 0s 2ms/step - loss: 0.0267 - val_loss: 0.0211\n",
      "Epoch 10/200\n",
      "17/17 [==============================] - 0s 2ms/step - loss: 0.0257 - val_loss: 0.0205\n",
      "Epoch 11/200\n",
      "17/17 [==============================] - 0s 2ms/step - loss: 0.0250 - val_loss: 0.0198\n",
      "Epoch 12/200\n",
      "17/17 [==============================] - 0s 2ms/step - loss: 0.0243 - val_loss: 0.0196\n",
      "Epoch 13/200\n",
      "17/17 [==============================] - 0s 3ms/step - loss: 0.0236 - val_loss: 0.0188\n",
      "Epoch 14/200\n",
      "17/17 [==============================] - 0s 2ms/step - loss: 0.0231 - val_loss: 0.0183\n",
      "Epoch 15/200\n",
      "17/17 [==============================] - 0s 2ms/step - loss: 0.0225 - val_loss: 0.0181\n",
      "Epoch 16/200\n",
      "17/17 [==============================] - 0s 2ms/step - loss: 0.0221 - val_loss: 0.0175\n",
      "Epoch 17/200\n",
      "17/17 [==============================] - 0s 2ms/step - loss: 0.0217 - val_loss: 0.0176\n",
      "Epoch 18/200\n",
      "17/17 [==============================] - 0s 2ms/step - loss: 0.0213 - val_loss: 0.0173\n",
      "Epoch 19/200\n",
      "17/17 [==============================] - 0s 2ms/step - loss: 0.0211 - val_loss: 0.0172\n",
      "Epoch 20/200\n",
      "17/17 [==============================] - 0s 6ms/step - loss: 0.0212 - val_loss: 0.0175\n",
      "Epoch 21/200\n",
      "17/17 [==============================] - 0s 4ms/step - loss: 0.0206 - val_loss: 0.0172\n",
      "Epoch 22/200\n",
      "17/17 [==============================] - 0s 3ms/step - loss: 0.0210 - val_loss: 0.0173\n",
      "Epoch 23/200\n",
      "17/17 [==============================] - 0s 2ms/step - loss: 0.0205 - val_loss: 0.0173\n",
      "Epoch 24/200\n",
      "17/17 [==============================] - 0s 2ms/step - loss: 0.0202 - val_loss: 0.0170\n",
      "Epoch 25/200\n",
      "17/17 [==============================] - 0s 2ms/step - loss: 0.0202 - val_loss: 0.0171\n",
      "Epoch 26/200\n",
      "17/17 [==============================] - 0s 2ms/step - loss: 0.0204 - val_loss: 0.0177\n",
      "Epoch 27/200\n",
      "17/17 [==============================] - 0s 2ms/step - loss: 0.0201 - val_loss: 0.0180\n",
      "Epoch 28/200\n",
      "17/17 [==============================] - 0s 2ms/step - loss: 0.0200 - val_loss: 0.0173\n",
      "Epoch 29/200\n",
      "17/17 [==============================] - 0s 2ms/step - loss: 0.0197 - val_loss: 0.0175\n",
      "Epoch 30/200\n",
      "17/17 [==============================] - 0s 2ms/step - loss: 0.0198 - val_loss: 0.0175\n",
      "Epoch 31/200\n",
      "17/17 [==============================] - 0s 2ms/step - loss: 0.0196 - val_loss: 0.0177\n",
      "Epoch 32/200\n",
      "17/17 [==============================] - 0s 2ms/step - loss: 0.0196 - val_loss: 0.0178\n",
      "Epoch 33/200\n",
      "17/17 [==============================] - 0s 2ms/step - loss: 0.0199 - val_loss: 0.0179\n",
      "Epoch 34/200\n",
      "17/17 [==============================] - 0s 2ms/step - loss: 0.0197 - val_loss: 0.0184\n",
      "Epoch 35/200\n",
      "17/17 [==============================] - 0s 2ms/step - loss: 0.0195 - val_loss: 0.0184\n",
      "Epoch 36/200\n",
      "17/17 [==============================] - 0s 2ms/step - loss: 0.0196 - val_loss: 0.0181\n",
      "Epoch 37/200\n",
      "17/17 [==============================] - 0s 3ms/step - loss: 0.0195 - val_loss: 0.0184\n",
      "Epoch 38/200\n",
      "17/17 [==============================] - 0s 5ms/step - loss: 0.0194 - val_loss: 0.0182\n",
      "Epoch 39/200\n",
      "17/17 [==============================] - 0s 2ms/step - loss: 0.0195 - val_loss: 0.0181\n",
      "Epoch 40/200\n",
      "17/17 [==============================] - 0s 2ms/step - loss: 0.0192 - val_loss: 0.0181\n",
      "Epoch 41/200\n",
      "17/17 [==============================] - 0s 2ms/step - loss: 0.0190 - val_loss: 0.0180\n",
      "Epoch 42/200\n",
      "17/17 [==============================] - 0s 3ms/step - loss: 0.0189 - val_loss: 0.0182\n",
      "Epoch 43/200\n",
      "17/17 [==============================] - 0s 3ms/step - loss: 0.0188 - val_loss: 0.0184\n",
      "Epoch 44/200\n",
      "17/17 [==============================] - 0s 3ms/step - loss: 0.0187 - val_loss: 0.0183\n",
      "Epoch 45/200\n",
      "17/17 [==============================] - 0s 3ms/step - loss: 0.0190 - val_loss: 0.0186\n",
      "Epoch 46/200\n",
      "17/17 [==============================] - 0s 3ms/step - loss: 0.0190 - val_loss: 0.0190\n",
      "Epoch 47/200\n",
      "17/17 [==============================] - 0s 3ms/step - loss: 0.0187 - val_loss: 0.0186\n",
      "Epoch 48/200\n",
      "17/17 [==============================] - 0s 3ms/step - loss: 0.0186 - val_loss: 0.0191\n",
      "Epoch 49/200\n",
      "17/17 [==============================] - 0s 3ms/step - loss: 0.0185 - val_loss: 0.0197\n",
      "Epoch 50/200\n",
      "17/17 [==============================] - 0s 4ms/step - loss: 0.0188 - val_loss: 0.0188\n",
      "Epoch 51/200\n",
      "17/17 [==============================] - 0s 4ms/step - loss: 0.0185 - val_loss: 0.0194\n",
      "Epoch 52/200\n",
      "17/17 [==============================] - 0s 6ms/step - loss: 0.0188 - val_loss: 0.0194\n",
      "Epoch 53/200\n",
      "17/17 [==============================] - 0s 6ms/step - loss: 0.0184 - val_loss: 0.0190\n",
      "Epoch 54/200\n",
      "17/17 [==============================] - 0s 4ms/step - loss: 0.0183 - val_loss: 0.0191\n",
      "Epoch 55/200\n",
      "17/17 [==============================] - 0s 3ms/step - loss: 0.0182 - val_loss: 0.0191\n",
      "Epoch 56/200\n",
      "17/17 [==============================] - 0s 3ms/step - loss: 0.0184 - val_loss: 0.0193\n",
      "Epoch 57/200\n",
      "17/17 [==============================] - 0s 3ms/step - loss: 0.0183 - val_loss: 0.0193\n",
      "Epoch 58/200\n",
      "17/17 [==============================] - 0s 3ms/step - loss: 0.0179 - val_loss: 0.0191\n",
      "Epoch 59/200\n",
      "17/17 [==============================] - 0s 3ms/step - loss: 0.0182 - val_loss: 0.0189\n",
      "Epoch 60/200\n",
      "17/17 [==============================] - 0s 3ms/step - loss: 0.0183 - val_loss: 0.0192\n",
      "Epoch 61/200\n",
      "17/17 [==============================] - 0s 3ms/step - loss: 0.0179 - val_loss: 0.0192\n",
      "Epoch 62/200\n",
      "17/17 [==============================] - 0s 6ms/step - loss: 0.0179 - val_loss: 0.0190\n",
      "Epoch 63/200\n",
      "17/17 [==============================] - 0s 7ms/step - loss: 0.0180 - val_loss: 0.0195\n",
      "Epoch 64/200\n",
      "17/17 [==============================] - 0s 2ms/step - loss: 0.0179 - val_loss: 0.0200\n",
      "Epoch 65/200\n",
      "17/17 [==============================] - 0s 4ms/step - loss: 0.0181 - val_loss: 0.0196\n",
      "Epoch 66/200\n",
      "17/17 [==============================] - 0s 4ms/step - loss: 0.0177 - val_loss: 0.0195\n",
      "Epoch 67/200\n",
      "17/17 [==============================] - 0s 5ms/step - loss: 0.0177 - val_loss: 0.0191\n",
      "Epoch 68/200\n",
      "17/17 [==============================] - 0s 3ms/step - loss: 0.0179 - val_loss: 0.0190\n",
      "Epoch 69/200\n",
      "17/17 [==============================] - 0s 2ms/step - loss: 0.0176 - val_loss: 0.0192\n",
      "Epoch 70/200\n",
      "17/17 [==============================] - 0s 2ms/step - loss: 0.0175 - val_loss: 0.0193\n",
      "Epoch 71/200\n",
      "17/17 [==============================] - 0s 2ms/step - loss: 0.0175 - val_loss: 0.0191\n",
      "Epoch 72/200\n",
      "17/17 [==============================] - 0s 2ms/step - loss: 0.0179 - val_loss: 0.0193\n",
      "Epoch 73/200\n",
      "17/17 [==============================] - 0s 3ms/step - loss: 0.0174 - val_loss: 0.0204\n",
      "Epoch 74/200\n",
      "17/17 [==============================] - 0s 2ms/step - loss: 0.0176 - val_loss: 0.0196\n",
      "Epoch 75/200\n",
      "17/17 [==============================] - 0s 2ms/step - loss: 0.0177 - val_loss: 0.0195\n",
      "Epoch 76/200\n",
      "17/17 [==============================] - 0s 3ms/step - loss: 0.0174 - val_loss: 0.0194\n",
      "Epoch 77/200\n",
      "17/17 [==============================] - 0s 3ms/step - loss: 0.0172 - val_loss: 0.0200\n",
      "Epoch 78/200\n",
      "17/17 [==============================] - 0s 2ms/step - loss: 0.0179 - val_loss: 0.0198\n",
      "Epoch 79/200\n",
      "17/17 [==============================] - 0s 2ms/step - loss: 0.0171 - val_loss: 0.0197\n",
      "Epoch 80/200\n",
      "17/17 [==============================] - 0s 2ms/step - loss: 0.0171 - val_loss: 0.0194\n",
      "Epoch 81/200\n",
      "17/17 [==============================] - 0s 2ms/step - loss: 0.0172 - val_loss: 0.0200\n",
      "Epoch 82/200\n",
      "17/17 [==============================] - 0s 2ms/step - loss: 0.0175 - val_loss: 0.0198\n",
      "Epoch 83/200\n"
     ]
    },
    {
     "name": "stdout",
     "output_type": "stream",
     "text": [
      "17/17 [==============================] - 0s 2ms/step - loss: 0.0169 - val_loss: 0.0198\n",
      "Epoch 84/200\n",
      "17/17 [==============================] - 0s 2ms/step - loss: 0.0170 - val_loss: 0.0195\n",
      "Epoch 85/200\n",
      "17/17 [==============================] - 0s 2ms/step - loss: 0.0170 - val_loss: 0.0202\n",
      "Epoch 86/200\n",
      "17/17 [==============================] - 0s 2ms/step - loss: 0.0167 - val_loss: 0.0200\n",
      "Epoch 87/200\n",
      "17/17 [==============================] - 0s 2ms/step - loss: 0.0169 - val_loss: 0.0200\n",
      "Epoch 88/200\n",
      "17/17 [==============================] - 0s 2ms/step - loss: 0.0169 - val_loss: 0.0199\n",
      "Epoch 89/200\n",
      "17/17 [==============================] - 0s 2ms/step - loss: 0.0168 - val_loss: 0.0199\n",
      "Epoch 90/200\n",
      "17/17 [==============================] - 0s 2ms/step - loss: 0.0170 - val_loss: 0.0207\n",
      "Epoch 91/200\n",
      "17/17 [==============================] - 0s 2ms/step - loss: 0.0170 - val_loss: 0.0204\n",
      "Epoch 92/200\n",
      "17/17 [==============================] - 0s 2ms/step - loss: 0.0171 - val_loss: 0.0202\n",
      "Epoch 93/200\n",
      "17/17 [==============================] - 0s 2ms/step - loss: 0.0167 - val_loss: 0.0203\n",
      "Epoch 94/200\n",
      "17/17 [==============================] - 0s 2ms/step - loss: 0.0166 - val_loss: 0.0205\n",
      "Epoch 95/200\n",
      "17/17 [==============================] - 0s 2ms/step - loss: 0.0168 - val_loss: 0.0202\n",
      "Epoch 96/200\n",
      "17/17 [==============================] - 0s 2ms/step - loss: 0.0167 - val_loss: 0.0206\n",
      "Epoch 97/200\n",
      "17/17 [==============================] - 0s 2ms/step - loss: 0.0167 - val_loss: 0.0210\n",
      "Epoch 98/200\n",
      "17/17 [==============================] - 0s 2ms/step - loss: 0.0171 - val_loss: 0.0207\n",
      "Epoch 99/200\n",
      "17/17 [==============================] - 0s 2ms/step - loss: 0.0165 - val_loss: 0.0200\n",
      "Epoch 100/200\n",
      "17/17 [==============================] - 0s 2ms/step - loss: 0.0166 - val_loss: 0.0201\n",
      "Epoch 101/200\n",
      "17/17 [==============================] - 0s 2ms/step - loss: 0.0164 - val_loss: 0.0205\n",
      "Epoch 102/200\n",
      "17/17 [==============================] - 0s 2ms/step - loss: 0.0166 - val_loss: 0.0201\n",
      "Epoch 103/200\n",
      "17/17 [==============================] - 0s 2ms/step - loss: 0.0165 - val_loss: 0.0203\n",
      "Epoch 104/200\n",
      "17/17 [==============================] - 0s 2ms/step - loss: 0.0168 - val_loss: 0.0203\n",
      "Epoch 105/200\n",
      "17/17 [==============================] - 0s 2ms/step - loss: 0.0165 - val_loss: 0.0200\n",
      "Epoch 106/200\n",
      "17/17 [==============================] - 0s 2ms/step - loss: 0.0169 - val_loss: 0.0204\n",
      "Epoch 107/200\n",
      "17/17 [==============================] - 0s 2ms/step - loss: 0.0172 - val_loss: 0.0203\n",
      "Epoch 108/200\n",
      "17/17 [==============================] - 0s 3ms/step - loss: 0.0165 - val_loss: 0.0202\n",
      "Epoch 109/200\n",
      "17/17 [==============================] - 0s 3ms/step - loss: 0.0165 - val_loss: 0.0204\n",
      "Epoch 110/200\n",
      "17/17 [==============================] - 0s 2ms/step - loss: 0.0164 - val_loss: 0.0203\n",
      "Epoch 111/200\n",
      "17/17 [==============================] - 0s 2ms/step - loss: 0.0162 - val_loss: 0.0209\n",
      "Epoch 112/200\n",
      "17/17 [==============================] - 0s 2ms/step - loss: 0.0166 - val_loss: 0.0201\n",
      "Epoch 113/200\n",
      "17/17 [==============================] - 0s 2ms/step - loss: 0.0165 - val_loss: 0.0207\n",
      "Epoch 114/200\n",
      "17/17 [==============================] - 0s 2ms/step - loss: 0.0163 - val_loss: 0.0202\n",
      "Epoch 115/200\n",
      "17/17 [==============================] - 0s 2ms/step - loss: 0.0164 - val_loss: 0.0204\n",
      "Epoch 116/200\n",
      "17/17 [==============================] - 0s 2ms/step - loss: 0.0165 - val_loss: 0.0202\n",
      "Epoch 117/200\n",
      "17/17 [==============================] - 0s 2ms/step - loss: 0.0163 - val_loss: 0.0199\n",
      "Epoch 118/200\n",
      "17/17 [==============================] - 0s 3ms/step - loss: 0.0163 - val_loss: 0.0203\n",
      "Epoch 119/200\n",
      "17/17 [==============================] - 0s 3ms/step - loss: 0.0162 - val_loss: 0.0209\n",
      "Epoch 120/200\n",
      "17/17 [==============================] - 0s 2ms/step - loss: 0.0166 - val_loss: 0.0202\n",
      "Epoch 121/200\n",
      "17/17 [==============================] - 0s 2ms/step - loss: 0.0162 - val_loss: 0.0203\n",
      "Epoch 122/200\n",
      "17/17 [==============================] - 0s 2ms/step - loss: 0.0163 - val_loss: 0.0205\n",
      "Epoch 123/200\n",
      "17/17 [==============================] - 0s 2ms/step - loss: 0.0163 - val_loss: 0.0203\n",
      "Epoch 124/200\n",
      "17/17 [==============================] - 0s 2ms/step - loss: 0.0161 - val_loss: 0.0207\n",
      "Epoch 125/200\n",
      "17/17 [==============================] - 0s 2ms/step - loss: 0.0164 - val_loss: 0.0206\n",
      "Epoch 126/200\n",
      "17/17 [==============================] - 0s 2ms/step - loss: 0.0164 - val_loss: 0.0203\n",
      "Epoch 127/200\n",
      "17/17 [==============================] - 0s 2ms/step - loss: 0.0165 - val_loss: 0.0202\n",
      "Epoch 128/200\n",
      "17/17 [==============================] - 0s 2ms/step - loss: 0.0162 - val_loss: 0.0206\n",
      "Epoch 129/200\n",
      "17/17 [==============================] - 0s 2ms/step - loss: 0.0161 - val_loss: 0.0202\n",
      "Epoch 130/200\n",
      "17/17 [==============================] - 0s 2ms/step - loss: 0.0163 - val_loss: 0.0203\n",
      "Epoch 131/200\n",
      "17/17 [==============================] - 0s 2ms/step - loss: 0.0161 - val_loss: 0.0202\n",
      "Epoch 132/200\n",
      "17/17 [==============================] - 0s 2ms/step - loss: 0.0161 - val_loss: 0.0206\n",
      "Epoch 133/200\n",
      "17/17 [==============================] - 0s 2ms/step - loss: 0.0159 - val_loss: 0.0203\n",
      "Epoch 134/200\n",
      "17/17 [==============================] - 0s 2ms/step - loss: 0.0159 - val_loss: 0.0203\n",
      "Epoch 135/200\n",
      "17/17 [==============================] - 0s 2ms/step - loss: 0.0160 - val_loss: 0.0201\n",
      "Epoch 136/200\n",
      "17/17 [==============================] - 0s 2ms/step - loss: 0.0159 - val_loss: 0.0205\n",
      "Epoch 137/200\n",
      "17/17 [==============================] - 0s 2ms/step - loss: 0.0159 - val_loss: 0.0201\n",
      "Epoch 138/200\n",
      "17/17 [==============================] - 0s 2ms/step - loss: 0.0161 - val_loss: 0.0204\n",
      "Epoch 139/200\n",
      "17/17 [==============================] - 0s 2ms/step - loss: 0.0164 - val_loss: 0.0203\n",
      "Epoch 140/200\n",
      "17/17 [==============================] - 0s 2ms/step - loss: 0.0161 - val_loss: 0.0209\n",
      "Epoch 141/200\n",
      "17/17 [==============================] - 0s 2ms/step - loss: 0.0162 - val_loss: 0.0205\n",
      "Epoch 142/200\n",
      "17/17 [==============================] - 0s 2ms/step - loss: 0.0158 - val_loss: 0.0203\n",
      "Epoch 143/200\n",
      "17/17 [==============================] - 0s 3ms/step - loss: 0.0160 - val_loss: 0.0205\n",
      "Epoch 144/200\n",
      "17/17 [==============================] - 0s 4ms/step - loss: 0.0159 - val_loss: 0.0203\n",
      "Epoch 145/200\n",
      "17/17 [==============================] - 0s 3ms/step - loss: 0.0158 - val_loss: 0.0204\n",
      "Epoch 146/200\n",
      "17/17 [==============================] - 0s 3ms/step - loss: 0.0157 - val_loss: 0.0203\n",
      "Epoch 147/200\n",
      "17/17 [==============================] - 0s 3ms/step - loss: 0.0158 - val_loss: 0.0203\n",
      "Epoch 148/200\n",
      "17/17 [==============================] - 0s 2ms/step - loss: 0.0158 - val_loss: 0.0203\n",
      "Epoch 149/200\n",
      "17/17 [==============================] - 0s 3ms/step - loss: 0.0160 - val_loss: 0.0201\n",
      "Epoch 150/200\n",
      "17/17 [==============================] - 0s 3ms/step - loss: 0.0162 - val_loss: 0.0204\n",
      "Epoch 151/200\n",
      "17/17 [==============================] - 0s 3ms/step - loss: 0.0161 - val_loss: 0.0201\n",
      "Epoch 152/200\n",
      "17/17 [==============================] - 0s 2ms/step - loss: 0.0160 - val_loss: 0.0202\n",
      "Epoch 153/200\n",
      "17/17 [==============================] - 0s 2ms/step - loss: 0.0158 - val_loss: 0.0203\n",
      "Epoch 154/200\n",
      "17/17 [==============================] - 0s 2ms/step - loss: 0.0157 - val_loss: 0.0201\n",
      "Epoch 155/200\n",
      "17/17 [==============================] - 0s 7ms/step - loss: 0.0159 - val_loss: 0.0204\n",
      "Epoch 156/200\n",
      "17/17 [==============================] - 0s 6ms/step - loss: 0.0155 - val_loss: 0.0206\n",
      "Epoch 157/200\n",
      "17/17 [==============================] - 0s 7ms/step - loss: 0.0158 - val_loss: 0.0207\n",
      "Epoch 158/200\n",
      "17/17 [==============================] - 0s 7ms/step - loss: 0.0158 - val_loss: 0.0207\n",
      "Epoch 159/200\n",
      "17/17 [==============================] - 0s 4ms/step - loss: 0.0158 - val_loss: 0.0211\n",
      "Epoch 160/200\n",
      "17/17 [==============================] - 0s 4ms/step - loss: 0.0158 - val_loss: 0.0201\n",
      "Epoch 161/200\n",
      "17/17 [==============================] - 0s 6ms/step - loss: 0.0157 - val_loss: 0.0208\n",
      "Epoch 162/200\n",
      "17/17 [==============================] - 0s 6ms/step - loss: 0.0157 - val_loss: 0.0205\n",
      "Epoch 163/200\n",
      "17/17 [==============================] - 0s 5ms/step - loss: 0.0157 - val_loss: 0.0206\n",
      "Epoch 164/200\n"
     ]
    },
    {
     "name": "stdout",
     "output_type": "stream",
     "text": [
      "17/17 [==============================] - 0s 4ms/step - loss: 0.0160 - val_loss: 0.0202\n",
      "Epoch 165/200\n",
      "17/17 [==============================] - 0s 4ms/step - loss: 0.0158 - val_loss: 0.0210\n",
      "Epoch 166/200\n",
      "17/17 [==============================] - 0s 6ms/step - loss: 0.0157 - val_loss: 0.0203\n",
      "Epoch 167/200\n",
      "17/17 [==============================] - 0s 4ms/step - loss: 0.0154 - val_loss: 0.0200\n",
      "Epoch 168/200\n",
      "17/17 [==============================] - 0s 4ms/step - loss: 0.0158 - val_loss: 0.0211\n",
      "Epoch 169/200\n",
      "17/17 [==============================] - 0s 3ms/step - loss: 0.0157 - val_loss: 0.0205\n",
      "Epoch 170/200\n",
      "17/17 [==============================] - 0s 4ms/step - loss: 0.0157 - val_loss: 0.0203\n",
      "Epoch 171/200\n",
      "17/17 [==============================] - 0s 5ms/step - loss: 0.0158 - val_loss: 0.0204\n",
      "Epoch 172/200\n",
      "17/17 [==============================] - 0s 3ms/step - loss: 0.0157 - val_loss: 0.0203\n",
      "Epoch 173/200\n",
      "17/17 [==============================] - 0s 2ms/step - loss: 0.0158 - val_loss: 0.0203\n",
      "Epoch 174/200\n",
      "17/17 [==============================] - 0s 2ms/step - loss: 0.0152 - val_loss: 0.0208\n",
      "Epoch 175/200\n",
      "17/17 [==============================] - 0s 6ms/step - loss: 0.0156 - val_loss: 0.0201\n",
      "Epoch 176/200\n",
      "17/17 [==============================] - 0s 5ms/step - loss: 0.0157 - val_loss: 0.0208\n",
      "Epoch 177/200\n",
      "17/17 [==============================] - 0s 3ms/step - loss: 0.0155 - val_loss: 0.0205\n",
      "Epoch 178/200\n",
      "17/17 [==============================] - 0s 2ms/step - loss: 0.0156 - val_loss: 0.0208\n",
      "Epoch 179/200\n",
      "17/17 [==============================] - 0s 2ms/step - loss: 0.0155 - val_loss: 0.0200\n",
      "Epoch 180/200\n",
      "17/17 [==============================] - 0s 2ms/step - loss: 0.0158 - val_loss: 0.0204\n",
      "Epoch 181/200\n",
      "17/17 [==============================] - 0s 2ms/step - loss: 0.0161 - val_loss: 0.0208\n",
      "Epoch 182/200\n",
      "17/17 [==============================] - 0s 3ms/step - loss: 0.0155 - val_loss: 0.0201\n",
      "Epoch 183/200\n",
      "17/17 [==============================] - 0s 4ms/step - loss: 0.0153 - val_loss: 0.0206\n",
      "Epoch 184/200\n",
      "17/17 [==============================] - 0s 4ms/step - loss: 0.0157 - val_loss: 0.0200\n",
      "Epoch 185/200\n",
      "17/17 [==============================] - 0s 3ms/step - loss: 0.0158 - val_loss: 0.0205\n",
      "Epoch 186/200\n",
      "17/17 [==============================] - 0s 4ms/step - loss: 0.0154 - val_loss: 0.0208\n",
      "Epoch 187/200\n",
      "17/17 [==============================] - 0s 3ms/step - loss: 0.0153 - val_loss: 0.0207\n",
      "Epoch 188/200\n",
      "17/17 [==============================] - 0s 2ms/step - loss: 0.0156 - val_loss: 0.0208\n",
      "Epoch 189/200\n",
      "17/17 [==============================] - 0s 2ms/step - loss: 0.0157 - val_loss: 0.0206\n",
      "Epoch 190/200\n",
      "17/17 [==============================] - 0s 2ms/step - loss: 0.0155 - val_loss: 0.0208\n",
      "Epoch 191/200\n",
      "17/17 [==============================] - 0s 2ms/step - loss: 0.0152 - val_loss: 0.0203\n",
      "Epoch 192/200\n",
      "17/17 [==============================] - 0s 2ms/step - loss: 0.0153 - val_loss: 0.0204\n",
      "Epoch 193/200\n",
      "17/17 [==============================] - 0s 2ms/step - loss: 0.0156 - val_loss: 0.0203\n",
      "Epoch 194/200\n",
      "17/17 [==============================] - 0s 2ms/step - loss: 0.0155 - val_loss: 0.0204\n",
      "Epoch 195/200\n",
      "17/17 [==============================] - 0s 2ms/step - loss: 0.0153 - val_loss: 0.0207\n",
      "Epoch 196/200\n",
      "17/17 [==============================] - 0s 2ms/step - loss: 0.0155 - val_loss: 0.0202\n",
      "Epoch 197/200\n",
      "17/17 [==============================] - 0s 2ms/step - loss: 0.0154 - val_loss: 0.0209\n",
      "Epoch 198/200\n",
      "17/17 [==============================] - 0s 2ms/step - loss: 0.0157 - val_loss: 0.0208\n",
      "Epoch 199/200\n",
      "17/17 [==============================] - 0s 2ms/step - loss: 0.0152 - val_loss: 0.0206\n",
      "Epoch 200/200\n",
      "17/17 [==============================] - 0s 2ms/step - loss: 0.0154 - val_loss: 0.0208\n"
     ]
    }
   ],
   "source": [
    "optimizer = tf.keras.optimizers.Adam(lr=0.001)#tf.keras.optimizers.Adam(lr=0.001)\n",
    "\n",
    "model.compile(optimizer= optimizer, loss=\"mae\")\n",
    "\n",
    "history = model.fit(\n",
    "    x = processed_data[\"x_train_scaled\"],\n",
    "    y = processed_data[\"y_train_scaled\"],\n",
    "    epochs = 200,\n",
    "    validation_data = (processed_data[\"x_test_scaled\"], processed_data[\"y_test_scaled\"]),\n",
    "    batch_size = 16 \n",
    ")"
   ]
  },
  {
   "cell_type": "markdown",
   "metadata": {},
   "source": [
    "Now let's look at the training process history, we can see that both the loss metric and the root mean squared error are high at the beginning and decrease gradually through the epochs, we can notice how the validation metric is always higher than the metric obtained with the training data."
   ]
  },
  {
   "cell_type": "code",
   "execution_count": 14,
   "metadata": {},
   "outputs": [
    {
     "data": {
      "text/plain": [
       "dict_keys(['loss', 'val_loss'])"
      ]
     },
     "execution_count": 14,
     "metadata": {},
     "output_type": "execute_result"
    }
   ],
   "source": [
    "history.history.keys()"
   ]
  },
  {
   "cell_type": "code",
   "execution_count": 15,
   "metadata": {},
   "outputs": [
    {
     "data": {
      "text/plain": [
       "<matplotlib.legend.Legend at 0x7fa46c45e160>"
      ]
     },
     "execution_count": 15,
     "metadata": {},
     "output_type": "execute_result"
    },
    {
     "data": {
      "image/png": "[encoded data removed]",
      "text/plain": [
       "<Figure size 1152x432 with 1 Axes>"
      ]
     },
     "metadata": {
      "needs_background": "light"
     },
     "output_type": "display_data"
    }
   ],
   "source": [
    "plt.figure(figsize=(16,6))\n",
    "plt.plot(history.history[\"loss\"], label = \"Loss\")\n",
    "plt.plot(history.history[\"val_loss\"], label = \"Val Loss\")\n",
    "plt.xlabel(\"Epochs\", fontsize = 14)\n",
    "plt.ylabel(\"Loss\", fontsize = 14)\n",
    "plt.grid()\n",
    "plt.legend(loc = \"best\")"
   ]
  },
  {
   "cell_type": "code",
   "execution_count": 16,
   "metadata": {},
   "outputs": [],
   "source": [
    "predictions = model.predict(processed_data[\"x_test_scaled\"]).flatten()"
   ]
  },
  {
   "cell_type": "code",
   "execution_count": 17,
   "metadata": {},
   "outputs": [
    {
     "data": {
      "image/png": "[encoded data removed]",
      "text/plain": [
       "<Figure size 576x576 with 1 Axes>"
      ]
     },
     "metadata": {
      "needs_background": "light"
     },
     "output_type": "display_data"
    }
   ],
   "source": [
    "plt.figure(figsize = (8,8))\n",
    "plt.scatter(predictions, processed_data[\"y_test_scaled\"])\n",
    "plt.title(\"Predictions vs Real\", fontsize = 18)\n",
    "plt.xlabel(\"Predictions\", fontsize = 14)\n",
    "plt.ylabel(\"Real\", fontsize = 14)\n",
    "plt.grid()\n"
   ]
  },
  {
   "cell_type": "code",
   "execution_count": 18,
   "metadata": {},
   "outputs": [],
   "source": [
    "#error\n",
    "error = predictions-processed_data[\"y_test_scaled\"]\n",
    "\n",
    "#mean absolute error \n",
    "mae = np.round(np.mean(np.abs(error)),2)\n",
    "\n",
    "#root mean squared error\n",
    "rmse = np.round(np.sqrt(np.mean(np.square(error))),2)"
   ]
  },
  {
   "cell_type": "code",
   "execution_count": 19,
   "metadata": {},
   "outputs": [
    {
     "name": "stdout",
     "output_type": "stream",
     "text": [
      "MAE: 0.02 RMSE: 0.05\n"
     ]
    }
   ],
   "source": [
    "print(f\"MAE: {mae} RMSE: {rmse}\")"
   ]
  },
  {
   "cell_type": "code",
   "execution_count": 20,
   "metadata": {},
   "outputs": [
    {
     "data": {
      "image/png": "[encoded data removed]",
      "text/plain": [
       "<Figure size 1152x432 with 1 Axes>"
      ]
     },
     "metadata": {
      "needs_background": "light"
     },
     "output_type": "display_data"
    }
   ],
   "source": [
    "#error plot\n",
    "plt.figure(figsize = (16,6))\n",
    "plt.scatter(error.index, error.values)\n",
    "plt.ylabel(\"Error\", fontsize = 14)\n",
    "plt.xlabel(\"Index\", fontsize = 14)\n",
    "plt.title(\"Error plot\")\n",
    "plt.grid()"
   ]
  },
  {
   "cell_type": "code",
   "execution_count": 21,
   "metadata": {},
   "outputs": [
    {
     "data": {
      "text/plain": [
       "699900"
      ]
     },
     "execution_count": 21,
     "metadata": {},
     "output_type": "execute_result"
    }
   ],
   "source": [
    "processed_data[\"y_test\"].loc[430]"
   ]
  },
  {
   "cell_type": "code",
   "execution_count": 22,
   "metadata": {},
   "outputs": [
    {
     "data": {
      "text/plain": [
       "698436.7827773094"
      ]
     },
     "execution_count": 22,
     "metadata": {},
     "output_type": "execute_result"
    }
   ],
   "source": [
    "predictions[0]*max(processed_data[\"y_train\"])"
   ]
  },
  {
   "cell_type": "code",
   "execution_count": null,
   "metadata": {},
   "outputs": [],
   "source": []
  }
 ],
 "metadata": {
  "kernelspec": {
   "display_name": "Python 3",
   "language": "python",
   "name": "python3"
  },
  "language_info": {
   "codemirror_mode": {
    "name": "ipython",
    "version": 3
   },
   "file_extension": ".py",
   "mimetype": "text/x-python",
   "name": "python",
   "nbconvert_exporter": "python",
   "pygments_lexer": "ipython3",
   "version": "3.8.3"
  }
 },
 "nbformat": 4,
 "nbformat_minor": 4
}
